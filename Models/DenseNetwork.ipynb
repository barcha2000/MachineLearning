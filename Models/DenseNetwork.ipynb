{
 "cells": [
  {
   "cell_type": "code",
   "execution_count": 9,
   "id": "7461e0bb",
   "metadata": {},
   "outputs": [],
   "source": [
    "from mnist_loader import load_data, load_data_wrapper\n",
    "import numpy as np\n",
    "import matplotlib.pyplot as plt"
   ]
  },
  {
   "cell_type": "markdown",
   "id": "3dd6f21f",
   "metadata": {},
   "source": [
    "Rozpakowuję dane"
   ]
  },
  {
   "cell_type": "code",
   "execution_count": 10,
   "id": "8b2126eb",
   "metadata": {},
   "outputs": [
    {
     "ename": "FileNotFoundError",
     "evalue": "[Errno 2] No such file or directory: 'Data/mnist.pkl.gz'",
     "output_type": "error",
     "traceback": [
      "\u001b[1;31m---------------------------------------------------------------------------\u001b[0m",
      "\u001b[1;31mFileNotFoundError\u001b[0m                         Traceback (most recent call last)",
      "\u001b[1;32m<ipython-input-10-7b1100543f8e>\u001b[0m in \u001b[0;36m<module>\u001b[1;34m\u001b[0m\n\u001b[1;32m----> 1\u001b[1;33m \u001b[0mdata\u001b[0m \u001b[1;33m=\u001b[0m \u001b[0mlist\u001b[0m\u001b[1;33m(\u001b[0m\u001b[0mload_data_wrapper\u001b[0m\u001b[1;33m(\u001b[0m\u001b[1;33m)\u001b[0m\u001b[1;33m[\u001b[0m\u001b[1;36m0\u001b[0m\u001b[1;33m]\u001b[0m\u001b[1;33m)\u001b[0m\u001b[1;33m\u001b[0m\u001b[1;33m\u001b[0m\u001b[0m\n\u001b[0m\u001b[0;32m      2\u001b[0m \u001b[0mdata_2\u001b[0m \u001b[1;33m=\u001b[0m \u001b[0mlist\u001b[0m\u001b[1;33m(\u001b[0m\u001b[0mload_data_wrapper\u001b[0m\u001b[1;33m(\u001b[0m\u001b[1;33m)\u001b[0m\u001b[1;33m[\u001b[0m\u001b[1;36m2\u001b[0m\u001b[1;33m]\u001b[0m\u001b[1;33m)\u001b[0m\u001b[1;33m\u001b[0m\u001b[1;33m\u001b[0m\u001b[0m\n\u001b[0;32m      3\u001b[0m \u001b[0mtrain_data\u001b[0m \u001b[1;33m=\u001b[0m \u001b[1;33m(\u001b[0m\u001b[0mdata\u001b[0m\u001b[1;33m[\u001b[0m\u001b[1;36m0\u001b[0m\u001b[1;33m]\u001b[0m\u001b[1;33m,\u001b[0m\u001b[0mdata\u001b[0m\u001b[1;33m[\u001b[0m\u001b[1;36m1\u001b[0m\u001b[1;33m]\u001b[0m\u001b[1;33m)\u001b[0m\u001b[1;33m\u001b[0m\u001b[1;33m\u001b[0m\u001b[0m\n\u001b[0;32m      4\u001b[0m \u001b[0mtest_data\u001b[0m \u001b[1;33m=\u001b[0m \u001b[1;33m(\u001b[0m\u001b[0mdata_2\u001b[0m\u001b[1;33m[\u001b[0m\u001b[1;36m0\u001b[0m\u001b[1;33m]\u001b[0m\u001b[1;33m,\u001b[0m\u001b[0mdata_2\u001b[0m\u001b[1;33m[\u001b[0m\u001b[1;36m1\u001b[0m\u001b[1;33m]\u001b[0m\u001b[1;33m)\u001b[0m\u001b[1;33m\u001b[0m\u001b[1;33m\u001b[0m\u001b[0m\n",
      "\u001b[1;32m~\\MachineLearning\\Models\\mnist_loader.py\u001b[0m in \u001b[0;36mload_data_wrapper\u001b[1;34m()\u001b[0m\n\u001b[0;32m     59\u001b[0m     \u001b[0mturn\u001b[0m \u001b[0mout\u001b[0m \u001b[0mto\u001b[0m \u001b[0mbe\u001b[0m \u001b[0mthe\u001b[0m \u001b[0mmost\u001b[0m \u001b[0mconvenient\u001b[0m \u001b[1;32mfor\u001b[0m \u001b[0muse\u001b[0m \u001b[1;32min\u001b[0m \u001b[0mour\u001b[0m \u001b[0mneural\u001b[0m \u001b[0mnetwork\u001b[0m\u001b[1;33m\u001b[0m\u001b[1;33m\u001b[0m\u001b[0m\n\u001b[0;32m     60\u001b[0m     code.\"\"\"\n\u001b[1;32m---> 61\u001b[1;33m     \u001b[0mtr_d\u001b[0m\u001b[1;33m,\u001b[0m \u001b[0mva_d\u001b[0m\u001b[1;33m,\u001b[0m \u001b[0mte_d\u001b[0m \u001b[1;33m=\u001b[0m \u001b[0mload_data\u001b[0m\u001b[1;33m(\u001b[0m\u001b[1;33m)\u001b[0m\u001b[1;33m\u001b[0m\u001b[1;33m\u001b[0m\u001b[0m\n\u001b[0m\u001b[0;32m     62\u001b[0m     \u001b[0mtraining_inputs\u001b[0m \u001b[1;33m=\u001b[0m \u001b[1;33m[\u001b[0m\u001b[0mnp\u001b[0m\u001b[1;33m.\u001b[0m\u001b[0mreshape\u001b[0m\u001b[1;33m(\u001b[0m\u001b[0mx\u001b[0m\u001b[1;33m,\u001b[0m \u001b[1;33m(\u001b[0m\u001b[1;36m784\u001b[0m\u001b[1;33m,\u001b[0m \u001b[1;36m1\u001b[0m\u001b[1;33m)\u001b[0m\u001b[1;33m)\u001b[0m \u001b[1;32mfor\u001b[0m \u001b[0mx\u001b[0m \u001b[1;32min\u001b[0m \u001b[0mtr_d\u001b[0m\u001b[1;33m[\u001b[0m\u001b[1;36m0\u001b[0m\u001b[1;33m]\u001b[0m\u001b[1;33m]\u001b[0m\u001b[1;33m\u001b[0m\u001b[1;33m\u001b[0m\u001b[0m\n\u001b[0;32m     63\u001b[0m     \u001b[0mtraining_results\u001b[0m \u001b[1;33m=\u001b[0m \u001b[1;33m[\u001b[0m\u001b[0mvectorized_result\u001b[0m\u001b[1;33m(\u001b[0m\u001b[0my\u001b[0m\u001b[1;33m)\u001b[0m \u001b[1;32mfor\u001b[0m \u001b[0my\u001b[0m \u001b[1;32min\u001b[0m \u001b[0mtr_d\u001b[0m\u001b[1;33m[\u001b[0m\u001b[1;36m1\u001b[0m\u001b[1;33m]\u001b[0m\u001b[1;33m]\u001b[0m\u001b[1;33m\u001b[0m\u001b[1;33m\u001b[0m\u001b[0m\n",
      "\u001b[1;32m~\\MachineLearning\\Models\\mnist_loader.py\u001b[0m in \u001b[0;36mload_data\u001b[1;34m()\u001b[0m\n\u001b[0;32m     36\u001b[0m     \u001b[0mbelow\u001b[0m\u001b[1;33m.\u001b[0m\u001b[1;33m\u001b[0m\u001b[1;33m\u001b[0m\u001b[0m\n\u001b[0;32m     37\u001b[0m     \"\"\"\n\u001b[1;32m---> 38\u001b[1;33m     \u001b[0mf\u001b[0m \u001b[1;33m=\u001b[0m \u001b[0mgzip\u001b[0m\u001b[1;33m.\u001b[0m\u001b[0mopen\u001b[0m\u001b[1;33m(\u001b[0m\u001b[1;34m'../Data/mnist.pkl.gz'\u001b[0m\u001b[1;33m,\u001b[0m \u001b[1;34m'rb'\u001b[0m\u001b[1;33m)\u001b[0m\u001b[1;33m\u001b[0m\u001b[1;33m\u001b[0m\u001b[0m\n\u001b[0m\u001b[0;32m     39\u001b[0m     \u001b[0mtraining_data\u001b[0m\u001b[1;33m,\u001b[0m \u001b[0mvalidation_data\u001b[0m\u001b[1;33m,\u001b[0m \u001b[0mtest_data\u001b[0m \u001b[1;33m=\u001b[0m \u001b[0mpickle\u001b[0m\u001b[1;33m.\u001b[0m\u001b[0mload\u001b[0m\u001b[1;33m(\u001b[0m\u001b[0mf\u001b[0m\u001b[1;33m,\u001b[0m \u001b[0mencoding\u001b[0m\u001b[1;33m=\u001b[0m\u001b[1;34m\"latin1\"\u001b[0m\u001b[1;33m)\u001b[0m\u001b[1;33m\u001b[0m\u001b[1;33m\u001b[0m\u001b[0m\n\u001b[0;32m     40\u001b[0m     \u001b[0mf\u001b[0m\u001b[1;33m.\u001b[0m\u001b[0mclose\u001b[0m\u001b[1;33m(\u001b[0m\u001b[1;33m)\u001b[0m\u001b[1;33m\u001b[0m\u001b[1;33m\u001b[0m\u001b[0m\n",
      "\u001b[1;32m~\\Anaconda3\\lib\\gzip.py\u001b[0m in \u001b[0;36mopen\u001b[1;34m(filename, mode, compresslevel, encoding, errors, newline)\u001b[0m\n\u001b[0;32m     56\u001b[0m     \u001b[0mgz_mode\u001b[0m \u001b[1;33m=\u001b[0m \u001b[0mmode\u001b[0m\u001b[1;33m.\u001b[0m\u001b[0mreplace\u001b[0m\u001b[1;33m(\u001b[0m\u001b[1;34m\"t\"\u001b[0m\u001b[1;33m,\u001b[0m \u001b[1;34m\"\"\u001b[0m\u001b[1;33m)\u001b[0m\u001b[1;33m\u001b[0m\u001b[1;33m\u001b[0m\u001b[0m\n\u001b[0;32m     57\u001b[0m     \u001b[1;32mif\u001b[0m \u001b[0misinstance\u001b[0m\u001b[1;33m(\u001b[0m\u001b[0mfilename\u001b[0m\u001b[1;33m,\u001b[0m \u001b[1;33m(\u001b[0m\u001b[0mstr\u001b[0m\u001b[1;33m,\u001b[0m \u001b[0mbytes\u001b[0m\u001b[1;33m,\u001b[0m \u001b[0mos\u001b[0m\u001b[1;33m.\u001b[0m\u001b[0mPathLike\u001b[0m\u001b[1;33m)\u001b[0m\u001b[1;33m)\u001b[0m\u001b[1;33m:\u001b[0m\u001b[1;33m\u001b[0m\u001b[1;33m\u001b[0m\u001b[0m\n\u001b[1;32m---> 58\u001b[1;33m         \u001b[0mbinary_file\u001b[0m \u001b[1;33m=\u001b[0m \u001b[0mGzipFile\u001b[0m\u001b[1;33m(\u001b[0m\u001b[0mfilename\u001b[0m\u001b[1;33m,\u001b[0m \u001b[0mgz_mode\u001b[0m\u001b[1;33m,\u001b[0m \u001b[0mcompresslevel\u001b[0m\u001b[1;33m)\u001b[0m\u001b[1;33m\u001b[0m\u001b[1;33m\u001b[0m\u001b[0m\n\u001b[0m\u001b[0;32m     59\u001b[0m     \u001b[1;32melif\u001b[0m \u001b[0mhasattr\u001b[0m\u001b[1;33m(\u001b[0m\u001b[0mfilename\u001b[0m\u001b[1;33m,\u001b[0m \u001b[1;34m\"read\"\u001b[0m\u001b[1;33m)\u001b[0m \u001b[1;32mor\u001b[0m \u001b[0mhasattr\u001b[0m\u001b[1;33m(\u001b[0m\u001b[0mfilename\u001b[0m\u001b[1;33m,\u001b[0m \u001b[1;34m\"write\"\u001b[0m\u001b[1;33m)\u001b[0m\u001b[1;33m:\u001b[0m\u001b[1;33m\u001b[0m\u001b[1;33m\u001b[0m\u001b[0m\n\u001b[0;32m     60\u001b[0m         \u001b[0mbinary_file\u001b[0m \u001b[1;33m=\u001b[0m \u001b[0mGzipFile\u001b[0m\u001b[1;33m(\u001b[0m\u001b[1;32mNone\u001b[0m\u001b[1;33m,\u001b[0m \u001b[0mgz_mode\u001b[0m\u001b[1;33m,\u001b[0m \u001b[0mcompresslevel\u001b[0m\u001b[1;33m,\u001b[0m \u001b[0mfilename\u001b[0m\u001b[1;33m)\u001b[0m\u001b[1;33m\u001b[0m\u001b[1;33m\u001b[0m\u001b[0m\n",
      "\u001b[1;32m~\\Anaconda3\\lib\\gzip.py\u001b[0m in \u001b[0;36m__init__\u001b[1;34m(self, filename, mode, compresslevel, fileobj, mtime)\u001b[0m\n\u001b[0;32m    171\u001b[0m             \u001b[0mmode\u001b[0m \u001b[1;33m+=\u001b[0m \u001b[1;34m'b'\u001b[0m\u001b[1;33m\u001b[0m\u001b[1;33m\u001b[0m\u001b[0m\n\u001b[0;32m    172\u001b[0m         \u001b[1;32mif\u001b[0m \u001b[0mfileobj\u001b[0m \u001b[1;32mis\u001b[0m \u001b[1;32mNone\u001b[0m\u001b[1;33m:\u001b[0m\u001b[1;33m\u001b[0m\u001b[1;33m\u001b[0m\u001b[0m\n\u001b[1;32m--> 173\u001b[1;33m             \u001b[0mfileobj\u001b[0m \u001b[1;33m=\u001b[0m \u001b[0mself\u001b[0m\u001b[1;33m.\u001b[0m\u001b[0mmyfileobj\u001b[0m \u001b[1;33m=\u001b[0m \u001b[0mbuiltins\u001b[0m\u001b[1;33m.\u001b[0m\u001b[0mopen\u001b[0m\u001b[1;33m(\u001b[0m\u001b[0mfilename\u001b[0m\u001b[1;33m,\u001b[0m \u001b[0mmode\u001b[0m \u001b[1;32mor\u001b[0m \u001b[1;34m'rb'\u001b[0m\u001b[1;33m)\u001b[0m\u001b[1;33m\u001b[0m\u001b[1;33m\u001b[0m\u001b[0m\n\u001b[0m\u001b[0;32m    174\u001b[0m         \u001b[1;32mif\u001b[0m \u001b[0mfilename\u001b[0m \u001b[1;32mis\u001b[0m \u001b[1;32mNone\u001b[0m\u001b[1;33m:\u001b[0m\u001b[1;33m\u001b[0m\u001b[1;33m\u001b[0m\u001b[0m\n\u001b[0;32m    175\u001b[0m             \u001b[0mfilename\u001b[0m \u001b[1;33m=\u001b[0m \u001b[0mgetattr\u001b[0m\u001b[1;33m(\u001b[0m\u001b[0mfileobj\u001b[0m\u001b[1;33m,\u001b[0m \u001b[1;34m'name'\u001b[0m\u001b[1;33m,\u001b[0m \u001b[1;34m''\u001b[0m\u001b[1;33m)\u001b[0m\u001b[1;33m\u001b[0m\u001b[1;33m\u001b[0m\u001b[0m\n",
      "\u001b[1;31mFileNotFoundError\u001b[0m: [Errno 2] No such file or directory: 'Data/mnist.pkl.gz'"
     ]
    }
   ],
   "source": [
    "data = list(load_data_wrapper()[0])\n",
    "data_2 = list(load_data_wrapper()[2])\n",
    "train_data = (data[0],data[1])\n",
    "test_data = (data_2[0],data_2[1])"
   ]
  },
  {
   "cell_type": "markdown",
   "id": "b43ae421",
   "metadata": {},
   "source": [
    "Funkcja aktywacji sigmoid i jej pochodna"
   ]
  },
  {
   "cell_type": "code",
   "execution_count": 3,
   "id": "80745e69",
   "metadata": {},
   "outputs": [],
   "source": [
    "def sigmoid(z):\n",
    "    return 1.0/(1.0+np.exp(-z))\n",
    "\n",
    "def sigmoid_prime(z):\n",
    "    return sigmoid(z)*(1-sigmoid(z))"
   ]
  },
  {
   "cell_type": "markdown",
   "id": "22708f08",
   "metadata": {},
   "source": [
    "Klasa warstwa:\n",
    "\n",
    "Metoda trigger - wartość po przemnożeniu wag z wyzwoleniem z poprzedniej warstwy\n",
    "\n",
    "Atrybut weights - wektor wag danej warstwy"
   ]
  },
  {
   "cell_type": "code",
   "execution_count": 4,
   "id": "7bacdc99",
   "metadata": {},
   "outputs": [],
   "source": [
    "class Layer:\n",
    "    def __init__(self, entry_size, size):\n",
    "        self.entry = entry_size\n",
    "        self.size = size\n",
    "        weights = np.random.normal(size = (self.entry + 1)*self.size,scale = 1/(2*np.sqrt(self.entry)) )\n",
    "        self.weights = np.reshape(weights,(self.size, self.entry + 1))\n",
    "    \n",
    "    def trigger(self, entry, function = sigmoid):\n",
    "        entry = np.vstack((entry, -1))\n",
    "        self.triggered = self.weights@entry\n",
    "        return function(self.triggered)"
   ]
  },
  {
   "cell_type": "markdown",
   "id": "d9eda5f2",
   "metadata": {},
   "source": [
    "Klasa sieć:\n",
    "\n",
    "Metoda feedforward - aktywacja sieci, wyliczenie wyjścia\n",
    "\n",
    "Metoda backprop - algorytm propagacji wsteczenj, uaktualnienie wag\n",
    "\n",
    "Metoda fit - uczenie sieci, wrzucamy listę kolejnych wejść i wyjść, stosujemy online learning\n",
    "\n",
    "Metoda predict - predykcja na podstawie wejście, gdy sieć jest już nauczona\n",
    "\n",
    "Atrybut network - lista kolejnych warst\n",
    "\n",
    "Atrybut entry - wartości wejściowe (macierz 784 pikseli)\n",
    "\n",
    "Atrybut output - wartości wyjściowe z ostatniej wykonanej aktywacji"
   ]
  },
  {
   "cell_type": "code",
   "execution_count": 5,
   "id": "24322ec8",
   "metadata": {},
   "outputs": [],
   "source": [
    "class Dense:\n",
    "    def __init__(self, shape):\n",
    "        self.network = []\n",
    "        for i in range(len(shape)-1):\n",
    "            self.network.append(Layer(shape[i],shape[i+1]))\n",
    "\n",
    "    def feedforward(self,entry):\n",
    "        self.entry = entry\n",
    "        layer_triggered = self.network[0].trigger(self.entry)\n",
    "        for i in self.network[1:]:\n",
    "            layer_triggered = i.trigger(layer_triggered)\n",
    "        self.output = layer_triggered\n",
    "        return self.output\n",
    "    \n",
    "    def backprop(self, t,c=0.05):\n",
    "        self.delta = self.delta + np.sum(((self.output - t).T)**2)\n",
    "        delta = (self.output - t)*sigmoid_prime(self.network[-1].triggered)\n",
    "        delta = delta.reshape((self.network[-1].size,1))\n",
    "        z = self.network[-2].triggered\n",
    "        z = np.vstack((z,-1)).reshape((1,self.network[-2].size + 1))\n",
    "        prev_weights = self.network[-1].weights\n",
    "        prev_delta = delta\n",
    "        self.network[-1].weights = self.network[-1].weights - c*(delta@z)  \n",
    "        for i in range(len(self.network) - 1):\n",
    "            delta = (prev_delta.T@prev_weights)[0][:-1]*sigmoid_prime(self.network[-2-i].triggered).T\n",
    "            delta = delta.T\n",
    "            if (i + 2 == len(self.network)):\n",
    "                prev_triggered = self.entry\n",
    "                prev_triggered = np.vstack((prev_triggered,-1))\n",
    "            else:\n",
    "                prev_triggered = self.network[-3-i].triggered\n",
    "                prev_triggered = np.vstack((prev_triggered,-1))\n",
    "                prev_weights = self.network[-2-i].weights\n",
    "                prev_delta = delta\n",
    "            self.network[-2-i].weights = self.network[-2-i].weights - c*(delta@prev_triggered.T)\n",
    "            \n",
    "        \n",
    "    def fit(self, data, test_data, epoch_num = 1, learning_rate = 0.05):\n",
    "        input_data = data[0]\n",
    "        output_data = data[1]\n",
    "        n = len(output_data)\n",
    "        for j in range(epoch_num):\n",
    "            self.delta = 0\n",
    "            for i in range(n):\n",
    "                self.feedforward(input_data[i])\n",
    "                self.backprop(output_data[i], learning_rate)\n",
    "            y = 0\n",
    "            for i in range(len(test_data[0])):\n",
    "                y += (x.predict(test_data[0][i]) == test_data[1][i])\n",
    "            print(\"Epoch\", j+1,\": Loss = \", self.delta, \", Accuracy = \", y/len(test_data[0]))\n",
    "            \n",
    "    def predict(self, data):\n",
    "        y = self.feedforward(data)\n",
    "        return np.argmax(y)"
   ]
  },
  {
   "cell_type": "markdown",
   "id": "02e2b63f",
   "metadata": {},
   "source": [
    "Przykładowa architektura sieci - 3 warstwy, (784, 30, 10) neuronów\n",
    "\n",
    "Metodą fit uczymy sieć, wykorzustując zbiór treningowy"
   ]
  },
  {
   "cell_type": "code",
   "execution_count": 6,
   "id": "bff91947",
   "metadata": {
    "scrolled": true
   },
   "outputs": [
    {
     "name": "stdout",
     "output_type": "stream",
     "text": [
      "Epoch 1 : Loss =  11101.29877412701 , Accuracy =  0.9248\n",
      "Epoch 2 : Loss =  6317.906466566946 , Accuracy =  0.9385\n",
      "Epoch 3 : Loss =  5343.207328608311 , Accuracy =  0.9448\n",
      "Epoch 4 : Loss =  4752.881375659912 , Accuracy =  0.9483\n",
      "Epoch 5 : Loss =  4335.88422726678 , Accuracy =  0.9515\n",
      "Epoch 6 : Loss =  4017.571009531392 , Accuracy =  0.9527\n",
      "Epoch 7 : Loss =  3760.403656012428 , Accuracy =  0.9553\n",
      "Epoch 8 : Loss =  3544.6067100913433 , Accuracy =  0.9568\n",
      "Epoch 9 : Loss =  3361.9464109456467 , Accuracy =  0.9577\n",
      "Epoch 10 : Loss =  3207.0008355954933 , Accuracy =  0.9584\n",
      "Epoch 11 : Loss =  3070.550313624855 , Accuracy =  0.9579\n",
      "Epoch 12 : Loss =  2947.5643150879523 , Accuracy =  0.9579\n",
      "Epoch 13 : Loss =  2836.2753654591243 , Accuracy =  0.9589\n",
      "Epoch 14 : Loss =  2735.1400658286548 , Accuracy =  0.9599\n",
      "Epoch 15 : Loss =  2641.665103796738 , Accuracy =  0.9604\n",
      "Epoch 16 : Loss =  2555.0136520522815 , Accuracy =  0.961\n",
      "Epoch 17 : Loss =  2475.1526442608233 , Accuracy =  0.961\n",
      "Epoch 18 : Loss =  2401.5392592720896 , Accuracy =  0.9611\n",
      "Epoch 19 : Loss =  2333.2469984367594 , Accuracy =  0.9608\n",
      "Epoch 20 : Loss =  2269.3031025812784 , Accuracy =  0.9611\n",
      "Epoch 21 : Loss =  2208.90094599555 , Accuracy =  0.9614\n",
      "Epoch 22 : Loss =  2151.410378830785 , Accuracy =  0.9615\n",
      "Epoch 23 : Loss =  2096.4826483536553 , Accuracy =  0.9616\n",
      "Epoch 24 : Loss =  2044.0000106228936 , Accuracy =  0.9621\n",
      "Epoch 25 : Loss =  1993.9350110213852 , Accuracy =  0.9623\n",
      "Epoch 26 : Loss =  1946.179453570002 , Accuracy =  0.9625\n",
      "Epoch 27 : Loss =  1900.6080102075907 , Accuracy =  0.9627\n",
      "Epoch 28 : Loss =  1857.167053108676 , Accuracy =  0.9626\n",
      "Epoch 29 : Loss =  1815.6274264296915 , Accuracy =  0.9629\n",
      "Epoch 30 : Loss =  1775.5579169047028 , Accuracy =  0.963\n"
     ]
    }
   ],
   "source": [
    "x = Dense([784,80,10])\n",
    "x.fit(train_data,test_data, epoch_num = 30, learning_rate = 0.05)"
   ]
  },
  {
   "cell_type": "markdown",
   "id": "c1d1f1dc",
   "metadata": {},
   "source": [
    "Wyliczamy skuteczność modelu na podstawie zbioru testowego"
   ]
  },
  {
   "cell_type": "code",
   "execution_count": 7,
   "id": "566ab873",
   "metadata": {},
   "outputs": [
    {
     "data": {
      "text/plain": [
       "0.963"
      ]
     },
     "execution_count": 7,
     "metadata": {},
     "output_type": "execute_result"
    }
   ],
   "source": [
    "y = 0\n",
    "for i in range(len(test_data[0])):\n",
    "    y += (x.predict(test_data[0][i]) == test_data[1][i])\n",
    "y/10000"
   ]
  }
 ],
 "metadata": {
  "kernelspec": {
   "display_name": "Python 3",
   "language": "python",
   "name": "python3"
  },
  "language_info": {
   "codemirror_mode": {
    "name": "ipython",
    "version": 3
   },
   "file_extension": ".py",
   "mimetype": "text/x-python",
   "name": "python",
   "nbconvert_exporter": "python",
   "pygments_lexer": "ipython3",
   "version": "3.8.8"
  }
 },
 "nbformat": 4,
 "nbformat_minor": 5
}

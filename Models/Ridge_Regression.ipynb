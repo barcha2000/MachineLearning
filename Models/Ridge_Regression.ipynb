{
 "cells": [
  {
   "cell_type": "code",
   "execution_count": 66,
   "id": "2aeb3205",
   "metadata": {},
   "outputs": [],
   "source": [
    "import numpy as np\n",
    "import pytest\n",
    "from sklearn.linear_model import Ridge, LinearRegression\n",
    "from abc import ABC, abstractmethod"
   ]
  },
  {
   "cell_type": "code",
   "execution_count": 67,
   "id": "6fb0ca4f",
   "metadata": {},
   "outputs": [],
   "source": [
    "class Regr(ABC):\n",
    "    def _get_X(self,X):\n",
    "        self.__n = X.shape[0]\n",
    "        self.X_extended = np.vstack((np.ones(self.__n),X.T))\n",
    "        \n",
    "    @abstractmethod\n",
    "    def fit(self):\n",
    "        pass\n",
    "    \n",
    "    def predict(self, X):\n",
    "        k, m = X.shape\n",
    "        self.predicted_values = X@self.theta[1:] + self.theta[0]\n",
    "        return self.predicted_values\n",
    "    \n",
    "class LinearRegr(Regr):\n",
    "    def fit(self, X, Y):\n",
    "        super()._get_X(X)\n",
    "        self.theta = np.linalg.inv(self.X_extended@self.X_extended.T)@self.X_extended@Y\n",
    "        return self\n",
    "\n",
    "class RidgeRegr(Regr):\n",
    "    def __init__(self, alpha = 0.0, c = 0.005, eps = 0.0000001, max_iter = 10000):\n",
    "        self.alpha = alpha\n",
    "        self.eps = eps\n",
    "        self.c = c\n",
    "        self.max_iter = max_iter\n",
    "        \n",
    "    def fit(self, X, Y):\n",
    "        self.__m = X.shape[1]\n",
    "        super()._get_X(X)\n",
    "        self.theta = np.ones(self.__m+1)\n",
    "        grad = np.ones(self.__m+1)\n",
    "        a = self.X_extended.T\n",
    "        for _ in range(self.max_iter):\n",
    "            for i in range(self.__m+1):\n",
    "                if i == 0:\n",
    "                    grad[i] = -2*(a[:,i]@(Y - a@self.theta))\n",
    "                else:\n",
    "                    grad[i] = -2*(a[:,i]@(Y - a@self.theta)) + 2*self.alpha*self.theta[i]\n",
    "            self.theta = self.theta - self.c*grad\n",
    "        return self    "
   ]
  },
  {
   "cell_type": "code",
   "execution_count": 68,
   "id": "a4a4e416",
   "metadata": {},
   "outputs": [],
   "source": [
    "class Test:\n",
    "    def __init__(self):\n",
    "        self.X = np.array([1,3,2,5]).reshape((4,1))\n",
    "        self.X_ext = np.array([1,2,3,5,4,5,4,3,3,3,2,5]).reshape((4,3))\n",
    "        self.Y = np.array([2,5, 3, 8])\n",
    "                \n",
    "    def test_up(self, method1, method2, dim, rel = 0):\n",
    "        if dim == 3:\n",
    "            self.X = self.X_ext\n",
    "        expected = method1.fit(self.X, self.Y).predict(self.X_test)\n",
    "        actual = method2.fit(self.X, self.Y).predict(self.X_test)\n",
    "        assert list(actual) == pytest.approx(list(expected), rel=rel)\n",
    "\n",
    "class TestLinear(Test):\n",
    "    def test(self, dim = 1):\n",
    "        self.X_test = np.array([1,2,10]).reshape((3,1))\n",
    "        if dim == 3:\n",
    "            self.X_test = np.array([1,0,0, 0,1,0, 0,0,1, 2,5,7, -2,0,3]).reshape((5,3))\n",
    "        return self.test_up(LinearRegression(), LinearRegr(), dim)\n",
    "\n",
    "class TestRidge(Test):\n",
    "    def test(self, dim = 1):\n",
    "        self.X_test = np.array([1,2,10]).reshape((3,1))\n",
    "        rel = 1e-5\n",
    "        alpha = 0.3\n",
    "        if dim == 3:\n",
    "            self.X_test = np.array([1,0,0, 0,1,0, 0,0,1, 2,5,7, -2,0,3]).reshape((5,3))\n",
    "            rel = 1e-3\n",
    "            alpha = 0.4\n",
    "        return self.test_up(Ridge(alpha), RidgeRegr(alpha), dim, rel = rel)"
   ]
  },
  {
   "cell_type": "code",
   "execution_count": 69,
   "id": "50329675",
   "metadata": {},
   "outputs": [],
   "source": [
    "TestLinear().test()"
   ]
  },
  {
   "cell_type": "code",
   "execution_count": 70,
   "id": "221c0b8b",
   "metadata": {},
   "outputs": [],
   "source": [
    "TestLinear().test(dim = 3)"
   ]
  },
  {
   "cell_type": "code",
   "execution_count": 71,
   "id": "d9d87e7f",
   "metadata": {},
   "outputs": [],
   "source": [
    "TestRidge().test()"
   ]
  },
  {
   "cell_type": "code",
   "execution_count": 72,
   "id": "28e4fa45",
   "metadata": {},
   "outputs": [],
   "source": [
    "TestRidge().test(dim = 3)"
   ]
  }
 ],
 "metadata": {
  "kernelspec": {
   "display_name": "Python 3",
   "language": "python",
   "name": "python3"
  },
  "language_info": {
   "codemirror_mode": {
    "name": "ipython",
    "version": 3
   },
   "file_extension": ".py",
   "mimetype": "text/x-python",
   "name": "python",
   "nbconvert_exporter": "python",
   "pygments_lexer": "ipython3",
   "version": "3.8.8"
  }
 },
 "nbformat": 4,
 "nbformat_minor": 5
}

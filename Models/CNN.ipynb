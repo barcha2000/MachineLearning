{
 "cells": [
  {
   "cell_type": "code",
   "execution_count": 1,
   "id": "6f250c0c",
   "metadata": {},
   "outputs": [],
   "source": [
    "import numpy as np\n",
    "from tensorflow import keras\n",
    "from tensorflow.keras import layers\n",
    "import zipfile\n",
    "import os\n",
    "import pandas as pd \n",
    "from sklearn.model_selection import train_test_split\n",
    "import keras.preprocessing as kp"
   ]
  },
  {
   "cell_type": "markdown",
   "id": "723ad313",
   "metadata": {},
   "source": [
    "# Mnist"
   ]
  },
  {
   "cell_type": "markdown",
   "id": "7f0492f7",
   "metadata": {},
   "source": [
    "## Preprocessing"
   ]
  },
  {
   "cell_type": "code",
   "execution_count": 2,
   "id": "0a4329a4",
   "metadata": {},
   "outputs": [
    {
     "name": "stdout",
     "output_type": "stream",
     "text": [
      "Downloading data from https://storage.googleapis.com/tensorflow/tf-keras-datasets/mnist.npz\n",
      "11490434/11490434 [==============================] - 10s 1us/step\n"
     ]
    }
   ],
   "source": [
    "num_classes = 10\n",
    "input_shape = (28, 28, 1)\n",
    "\n",
    "(x_train, y_train), (x_test, y_test) = keras.datasets.mnist.load_data()\n",
    "\n",
    "x_train = x_train.astype(\"float32\") / 255\n",
    "x_test = x_test.astype(\"float32\") / 255\n",
    "x_train = np.expand_dims(x_train, -1)\n",
    "x_test = np.expand_dims(x_test, -1)\n",
    "\n",
    "y_train = keras.utils.to_categorical(y_train, num_classes)\n",
    "y_test = keras.utils.to_categorical(y_test, num_classes)"
   ]
  },
  {
   "cell_type": "markdown",
   "id": "c55a2d16",
   "metadata": {},
   "source": [
    "## Model 1\n",
    "Prosty model - splot(32), splot(32), warstwa gęsta(10)"
   ]
  },
  {
   "cell_type": "code",
   "execution_count": 3,
   "id": "a093bf76",
   "metadata": {},
   "outputs": [
    {
     "name": "stdout",
     "output_type": "stream",
     "text": [
      "Model: \"sequential\"\n",
      "_________________________________________________________________\n",
      " Layer (type)                Output Shape              Param #   \n",
      "=================================================================\n",
      " conv2d (Conv2D)             (None, 26, 26, 32)        320       \n",
      "                                                                 \n",
      " max_pooling2d (MaxPooling2D  (None, 13, 13, 32)       0         \n",
      " )                                                               \n",
      "                                                                 \n",
      " conv2d_1 (Conv2D)           (None, 11, 11, 64)        18496     \n",
      "                                                                 \n",
      " max_pooling2d_1 (MaxPooling  (None, 5, 5, 64)         0         \n",
      " 2D)                                                             \n",
      "                                                                 \n",
      " flatten (Flatten)           (None, 1600)              0         \n",
      "                                                                 \n",
      " dropout (Dropout)           (None, 1600)              0         \n",
      "                                                                 \n",
      " dense (Dense)               (None, 10)                16010     \n",
      "                                                                 \n",
      "=================================================================\n",
      "Total params: 34,826\n",
      "Trainable params: 34,826\n",
      "Non-trainable params: 0\n",
      "_________________________________________________________________\n"
     ]
    }
   ],
   "source": [
    "model1 = keras.Sequential(\n",
    "    [\n",
    "        keras.Input(shape=input_shape),\n",
    "        layers.Conv2D(32, kernel_size=(3, 3), activation=\"relu\"),\n",
    "        layers.MaxPooling2D(pool_size=(2, 2)),\n",
    "        layers.Conv2D(64, kernel_size=(3, 3), activation=\"relu\"),\n",
    "        layers.MaxPooling2D(pool_size=(2, 2)),\n",
    "        layers.Flatten(),\n",
    "        layers.Dropout(0.5),\n",
    "        layers.Dense(num_classes, activation=\"softmax\"),\n",
    "    ]\n",
    ")\n",
    "\n",
    "model1.summary()\n"
   ]
  },
  {
   "cell_type": "code",
   "execution_count": 4,
   "id": "3a12d8d6",
   "metadata": {},
   "outputs": [
    {
     "name": "stdout",
     "output_type": "stream",
     "text": [
      "Epoch 1/15\n",
      "422/422 [==============================] - 29s 68ms/step - loss: 0.3662 - accuracy: 0.8878 - val_loss: 0.0796 - val_accuracy: 0.9787\n",
      "Epoch 2/15\n",
      "422/422 [==============================] - 29s 69ms/step - loss: 0.1126 - accuracy: 0.9653 - val_loss: 0.0635 - val_accuracy: 0.9813\n",
      "Epoch 3/15\n",
      "422/422 [==============================] - 30s 71ms/step - loss: 0.0852 - accuracy: 0.9736 - val_loss: 0.0522 - val_accuracy: 0.9850\n",
      "Epoch 4/15\n",
      "422/422 [==============================] - 30s 71ms/step - loss: 0.0714 - accuracy: 0.9781 - val_loss: 0.0422 - val_accuracy: 0.9883\n",
      "Epoch 5/15\n",
      "422/422 [==============================] - 35s 83ms/step - loss: 0.0636 - accuracy: 0.9799 - val_loss: 0.0413 - val_accuracy: 0.9898\n",
      "Epoch 6/15\n",
      "422/422 [==============================] - 29s 70ms/step - loss: 0.0582 - accuracy: 0.9816 - val_loss: 0.0392 - val_accuracy: 0.9885\n",
      "Epoch 7/15\n",
      "422/422 [==============================] - 34s 82ms/step - loss: 0.0534 - accuracy: 0.9831 - val_loss: 0.0371 - val_accuracy: 0.9897\n",
      "Epoch 8/15\n",
      "422/422 [==============================] - 32s 76ms/step - loss: 0.0488 - accuracy: 0.9852 - val_loss: 0.0368 - val_accuracy: 0.9892\n",
      "Epoch 9/15\n",
      "422/422 [==============================] - 32s 76ms/step - loss: 0.0473 - accuracy: 0.9852 - val_loss: 0.0335 - val_accuracy: 0.9910\n",
      "Epoch 10/15\n",
      "422/422 [==============================] - 36s 85ms/step - loss: 0.0430 - accuracy: 0.9861 - val_loss: 0.0342 - val_accuracy: 0.9903\n",
      "Epoch 11/15\n",
      "422/422 [==============================] - 33s 79ms/step - loss: 0.0401 - accuracy: 0.9867 - val_loss: 0.0322 - val_accuracy: 0.9912\n",
      "Epoch 12/15\n",
      "422/422 [==============================] - 31s 73ms/step - loss: 0.0388 - accuracy: 0.9874 - val_loss: 0.0319 - val_accuracy: 0.9915\n",
      "Epoch 13/15\n",
      "422/422 [==============================] - 32s 76ms/step - loss: 0.0370 - accuracy: 0.9884 - val_loss: 0.0311 - val_accuracy: 0.9907\n",
      "Epoch 14/15\n",
      "422/422 [==============================] - 34s 80ms/step - loss: 0.0383 - accuracy: 0.9875 - val_loss: 0.0311 - val_accuracy: 0.9897\n",
      "Epoch 15/15\n",
      "422/422 [==============================] - 29s 70ms/step - loss: 0.0348 - accuracy: 0.9886 - val_loss: 0.0305 - val_accuracy: 0.9915\n"
     ]
    },
    {
     "data": {
      "text/plain": [
       "<keras.callbacks.History at 0x1089139dd30>"
      ]
     },
     "execution_count": 4,
     "metadata": {},
     "output_type": "execute_result"
    }
   ],
   "source": [
    "batch_size = 128\n",
    "epochs = 15\n",
    "\n",
    "model1.compile(loss=\"categorical_crossentropy\", optimizer=\"adam\", metrics=[\"accuracy\"])\n",
    "\n",
    "model1.fit(x_train, y_train, batch_size=batch_size, epochs=epochs, validation_split=0.1)"
   ]
  },
  {
   "cell_type": "code",
   "execution_count": 8,
   "id": "34da6cb5",
   "metadata": {},
   "outputs": [
    {
     "name": "stdout",
     "output_type": "stream",
     "text": [
      "Test loss: 0.02691200003027916\n",
      "Test accuracy: 0.9905999898910522\n"
     ]
    }
   ],
   "source": [
    "score = model1.evaluate(x_test, y_test, verbose=0)\n",
    "print(\"Test loss:\", score[0])\n",
    "print(\"Test accuracy:\", score[1])"
   ]
  },
  {
   "cell_type": "markdown",
   "id": "cbfd90e7",
   "metadata": {},
   "source": [
    "Skueczność - 99,06%"
   ]
  },
  {
   "cell_type": "markdown",
   "id": "82c5bd4e",
   "metadata": {},
   "source": [
    "## Model 2\n",
    "Dorzucam Dropout(0.25)"
   ]
  },
  {
   "cell_type": "code",
   "execution_count": 6,
   "id": "7f7ca9e5",
   "metadata": {},
   "outputs": [
    {
     "name": "stdout",
     "output_type": "stream",
     "text": [
      "Model: \"sequential_1\"\n",
      "_________________________________________________________________\n",
      " Layer (type)                Output Shape              Param #   \n",
      "=================================================================\n",
      " conv2d_2 (Conv2D)           (None, 26, 26, 32)        320       \n",
      "                                                                 \n",
      " max_pooling2d_2 (MaxPooling  (None, 13, 13, 32)       0         \n",
      " 2D)                                                             \n",
      "                                                                 \n",
      " dropout_1 (Dropout)         (None, 13, 13, 32)        0         \n",
      "                                                                 \n",
      " conv2d_3 (Conv2D)           (None, 11, 11, 64)        18496     \n",
      "                                                                 \n",
      " max_pooling2d_3 (MaxPooling  (None, 5, 5, 64)         0         \n",
      " 2D)                                                             \n",
      "                                                                 \n",
      " dropout_2 (Dropout)         (None, 5, 5, 64)          0         \n",
      "                                                                 \n",
      " flatten_1 (Flatten)         (None, 1600)              0         \n",
      "                                                                 \n",
      " dropout_3 (Dropout)         (None, 1600)              0         \n",
      "                                                                 \n",
      " dense_1 (Dense)             (None, 10)                16010     \n",
      "                                                                 \n",
      "=================================================================\n",
      "Total params: 34,826\n",
      "Trainable params: 34,826\n",
      "Non-trainable params: 0\n",
      "_________________________________________________________________\n"
     ]
    }
   ],
   "source": [
    "model2 = keras.Sequential(\n",
    "    [\n",
    "        keras.Input(shape=input_shape),\n",
    "        layers.Conv2D(32, kernel_size=(3, 3), activation=\"relu\"),\n",
    "        layers.MaxPooling2D(pool_size=(2, 2)),\n",
    "        layers.Dropout(0.25),\n",
    "        layers.Conv2D(64, kernel_size=(3, 3), activation=\"relu\"),\n",
    "        layers.MaxPooling2D(pool_size=(2, 2)),\n",
    "        layers.Dropout(0.25),\n",
    "        layers.Flatten(),\n",
    "        layers.Dense(num_classes, activation=\"softmax\"),\n",
    "    ]\n",
    ")\n",
    "\n",
    "model2.summary()"
   ]
  },
  {
   "cell_type": "code",
   "execution_count": 7,
   "id": "63fd9d46",
   "metadata": {},
   "outputs": [
    {
     "name": "stdout",
     "output_type": "stream",
     "text": [
      "Epoch 1/15\n",
      "422/422 [==============================] - 32s 74ms/step - loss: 0.4506 - accuracy: 0.8574 - val_loss: 0.0981 - val_accuracy: 0.9750\n",
      "Epoch 2/15\n",
      "422/422 [==============================] - 31s 74ms/step - loss: 0.1500 - accuracy: 0.9545 - val_loss: 0.0695 - val_accuracy: 0.9807\n",
      "Epoch 3/15\n",
      "422/422 [==============================] - 35s 84ms/step - loss: 0.1172 - accuracy: 0.9641 - val_loss: 0.0537 - val_accuracy: 0.9855\n",
      "Epoch 4/15\n",
      "422/422 [==============================] - 31s 75ms/step - loss: 0.0967 - accuracy: 0.9697 - val_loss: 0.0462 - val_accuracy: 0.9882\n",
      "Epoch 5/15\n",
      "422/422 [==============================] - 34s 80ms/step - loss: 0.0877 - accuracy: 0.9728 - val_loss: 0.0409 - val_accuracy: 0.9885\n",
      "Epoch 6/15\n",
      "422/422 [==============================] - 34s 81ms/step - loss: 0.0835 - accuracy: 0.9740 - val_loss: 0.0375 - val_accuracy: 0.9898\n",
      "Epoch 7/15\n",
      "422/422 [==============================] - 34s 81ms/step - loss: 0.0764 - accuracy: 0.9764 - val_loss: 0.0369 - val_accuracy: 0.9905\n",
      "Epoch 8/15\n",
      "422/422 [==============================] - 34s 81ms/step - loss: 0.0710 - accuracy: 0.9776 - val_loss: 0.0339 - val_accuracy: 0.9907\n",
      "Epoch 9/15\n",
      "422/422 [==============================] - 34s 81ms/step - loss: 0.0683 - accuracy: 0.9775 - val_loss: 0.0337 - val_accuracy: 0.9905\n",
      "Epoch 10/15\n",
      "422/422 [==============================] - 34s 81ms/step - loss: 0.0654 - accuracy: 0.9797 - val_loss: 0.0304 - val_accuracy: 0.9913\n",
      "Epoch 11/15\n",
      "422/422 [==============================] - 34s 80ms/step - loss: 0.0637 - accuracy: 0.9804 - val_loss: 0.0314 - val_accuracy: 0.9908\n",
      "Epoch 12/15\n",
      "422/422 [==============================] - 34s 80ms/step - loss: 0.0588 - accuracy: 0.9814 - val_loss: 0.0300 - val_accuracy: 0.9915\n",
      "Epoch 13/15\n",
      "422/422 [==============================] - 34s 79ms/step - loss: 0.0579 - accuracy: 0.9816 - val_loss: 0.0285 - val_accuracy: 0.9930\n",
      "Epoch 14/15\n",
      "422/422 [==============================] - 34s 81ms/step - loss: 0.0564 - accuracy: 0.9824 - val_loss: 0.0287 - val_accuracy: 0.9923\n",
      "Epoch 15/15\n",
      "422/422 [==============================] - 35s 83ms/step - loss: 0.0542 - accuracy: 0.9828 - val_loss: 0.0280 - val_accuracy: 0.9925\n"
     ]
    },
    {
     "data": {
      "text/plain": [
       "<keras.callbacks.History at 0x10892b49a30>"
      ]
     },
     "execution_count": 7,
     "metadata": {},
     "output_type": "execute_result"
    }
   ],
   "source": [
    "batch_size = 128\n",
    "epochs = 15\n",
    "\n",
    "model2.compile(loss=\"categorical_crossentropy\", optimizer=\"adam\", metrics=[\"accuracy\"])\n",
    "\n",
    "model2.fit(x_train, y_train, batch_size=batch_size, epochs=epochs, validation_split=0.1)"
   ]
  },
  {
   "cell_type": "code",
   "execution_count": 9,
   "id": "8d59343a",
   "metadata": {},
   "outputs": [
    {
     "name": "stdout",
     "output_type": "stream",
     "text": [
      "Test loss: 0.026326607912778854\n",
      "Test accuracy: 0.9907000064849854\n"
     ]
    }
   ],
   "source": [
    "score = model2.evaluate(x_test, y_test, verbose=0)\n",
    "print(\"Test loss:\", score[0])\n",
    "print(\"Test accuracy:\", score[1])"
   ]
  },
  {
   "cell_type": "markdown",
   "id": "68c0288a",
   "metadata": {},
   "source": [
    "Skuteczność - 99,07%"
   ]
  },
  {
   "cell_type": "markdown",
   "id": "9927bc8e",
   "metadata": {},
   "source": [
    "## Model 3\n",
    "Dorzucam warstwy gęste (128, 30)"
   ]
  },
  {
   "cell_type": "code",
   "execution_count": 10,
   "id": "74c58bc7",
   "metadata": {},
   "outputs": [
    {
     "name": "stdout",
     "output_type": "stream",
     "text": [
      "Model: \"sequential_2\"\n",
      "_________________________________________________________________\n",
      " Layer (type)                Output Shape              Param #   \n",
      "=================================================================\n",
      " conv2d_4 (Conv2D)           (None, 26, 26, 32)        320       \n",
      "                                                                 \n",
      " max_pooling2d_4 (MaxPooling  (None, 13, 13, 32)       0         \n",
      " 2D)                                                             \n",
      "                                                                 \n",
      " dropout_4 (Dropout)         (None, 13, 13, 32)        0         \n",
      "                                                                 \n",
      " conv2d_5 (Conv2D)           (None, 11, 11, 64)        18496     \n",
      "                                                                 \n",
      " max_pooling2d_5 (MaxPooling  (None, 5, 5, 64)         0         \n",
      " 2D)                                                             \n",
      "                                                                 \n",
      " dropout_5 (Dropout)         (None, 5, 5, 64)          0         \n",
      "                                                                 \n",
      " flatten_2 (Flatten)         (None, 1600)              0         \n",
      "                                                                 \n",
      " dense_2 (Dense)             (None, 128)               204928    \n",
      "                                                                 \n",
      " dense_3 (Dense)             (None, 30)                3870      \n",
      "                                                                 \n",
      " dense_4 (Dense)             (None, 10)                310       \n",
      "                                                                 \n",
      "=================================================================\n",
      "Total params: 227,924\n",
      "Trainable params: 227,924\n",
      "Non-trainable params: 0\n",
      "_________________________________________________________________\n"
     ]
    }
   ],
   "source": [
    "model3 = keras.Sequential(\n",
    "    [\n",
    "        keras.Input(shape=input_shape),\n",
    "        layers.Conv2D(32, kernel_size=(3, 3), activation=\"relu\"),\n",
    "        layers.MaxPooling2D(pool_size=(2, 2)),\n",
    "        layers.Dropout(0.25),\n",
    "        layers.Conv2D(64, kernel_size=(3, 3), activation=\"relu\"),\n",
    "        layers.MaxPooling2D(pool_size=(2, 2)),\n",
    "        layers.Dropout(0.25),\n",
    "        layers.Flatten(),\n",
    "        layers.Dense(128),\n",
    "        layers.Dense(30),\n",
    "        layers.Dense(num_classes, activation=\"softmax\"),\n",
    "    ]\n",
    ")\n",
    "\n",
    "model3.summary()"
   ]
  },
  {
   "cell_type": "code",
   "execution_count": 14,
   "id": "c329c294",
   "metadata": {},
   "outputs": [
    {
     "name": "stdout",
     "output_type": "stream",
     "text": [
      "Epoch 1/15\n",
      "422/422 [==============================] - 34s 78ms/step - loss: 0.2489 - accuracy: 0.9226 - val_loss: 0.0646 - val_accuracy: 0.9812\n",
      "Epoch 2/15\n",
      "422/422 [==============================] - 35s 83ms/step - loss: 0.0840 - accuracy: 0.9734 - val_loss: 0.0451 - val_accuracy: 0.9860\n",
      "Epoch 3/15\n",
      "422/422 [==============================] - 35s 83ms/step - loss: 0.0641 - accuracy: 0.9803 - val_loss: 0.0398 - val_accuracy: 0.9888\n",
      "Epoch 4/15\n",
      "422/422 [==============================] - 35s 83ms/step - loss: 0.0526 - accuracy: 0.9832 - val_loss: 0.0391 - val_accuracy: 0.9888\n",
      "Epoch 5/15\n",
      "422/422 [==============================] - 35s 83ms/step - loss: 0.0463 - accuracy: 0.9848 - val_loss: 0.0367 - val_accuracy: 0.9897\n",
      "Epoch 6/15\n",
      "422/422 [==============================] - 36s 84ms/step - loss: 0.0419 - accuracy: 0.9864 - val_loss: 0.0356 - val_accuracy: 0.9887\n",
      "Epoch 7/15\n",
      "422/422 [==============================] - 35s 83ms/step - loss: 0.0409 - accuracy: 0.9870 - val_loss: 0.0337 - val_accuracy: 0.9908\n",
      "Epoch 8/15\n",
      "422/422 [==============================] - 34s 81ms/step - loss: 0.0365 - accuracy: 0.9881 - val_loss: 0.0281 - val_accuracy: 0.9922\n",
      "Epoch 9/15\n",
      "422/422 [==============================] - 35s 82ms/step - loss: 0.0335 - accuracy: 0.9894 - val_loss: 0.0317 - val_accuracy: 0.9918\n",
      "Epoch 10/15\n",
      "422/422 [==============================] - 35s 83ms/step - loss: 0.0328 - accuracy: 0.9893 - val_loss: 0.0310 - val_accuracy: 0.9912\n",
      "Epoch 11/15\n",
      "422/422 [==============================] - 36s 84ms/step - loss: 0.0294 - accuracy: 0.9900 - val_loss: 0.0273 - val_accuracy: 0.9928\n",
      "Epoch 12/15\n",
      "422/422 [==============================] - 36s 84ms/step - loss: 0.0299 - accuracy: 0.9902 - val_loss: 0.0325 - val_accuracy: 0.9908\n",
      "Epoch 13/15\n",
      "422/422 [==============================] - 38s 89ms/step - loss: 0.0270 - accuracy: 0.9911 - val_loss: 0.0285 - val_accuracy: 0.9923\n",
      "Epoch 14/15\n",
      "422/422 [==============================] - 32s 76ms/step - loss: 0.0271 - accuracy: 0.9913 - val_loss: 0.0322 - val_accuracy: 0.9920\n",
      "Epoch 15/15\n",
      "422/422 [==============================] - 33s 79ms/step - loss: 0.0252 - accuracy: 0.9916 - val_loss: 0.0319 - val_accuracy: 0.9912\n"
     ]
    },
    {
     "data": {
      "text/plain": [
       "<keras.callbacks.History at 0x10892e46d90>"
      ]
     },
     "execution_count": 14,
     "metadata": {},
     "output_type": "execute_result"
    }
   ],
   "source": [
    "batch_size = 128\n",
    "epochs = 15\n",
    "\n",
    "model3.compile(loss=\"categorical_crossentropy\", optimizer=\"adam\", metrics=[\"accuracy\"])\n",
    "\n",
    "model3.fit(x_train, y_train, batch_size=batch_size, epochs=epochs, validation_split=0.1)"
   ]
  },
  {
   "cell_type": "code",
   "execution_count": 15,
   "id": "4e761416",
   "metadata": {},
   "outputs": [
    {
     "name": "stdout",
     "output_type": "stream",
     "text": [
      "Test loss: 0.02585824951529503\n",
      "Test accuracy: 0.9919000267982483\n"
     ]
    }
   ],
   "source": [
    "score = model3.evaluate(x_test, y_test, verbose=0)\n",
    "print(\"Test loss:\", score[0])\n",
    "print(\"Test accuracy:\", score[1])"
   ]
  },
  {
   "cell_type": "markdown",
   "id": "8f6883c7",
   "metadata": {},
   "source": [
    "Skuteczność: 99,19%"
   ]
  },
  {
   "cell_type": "markdown",
   "id": "00477764",
   "metadata": {},
   "source": [
    "# Dogs vs. Cats"
   ]
  },
  {
   "cell_type": "markdown",
   "id": "4f169863",
   "metadata": {},
   "source": [
    "## Preprocessing"
   ]
  },
  {
   "cell_type": "code",
   "execution_count": 2,
   "id": "a227f9a7",
   "metadata": {},
   "outputs": [],
   "source": [
    "zip_path='train.zip'\n",
    "save_path = 'DogsCats'\n",
    "file=zipfile.ZipFile(zip_path)\n",
    "file.extractall(save_path)\n",
    "file.close()"
   ]
  },
  {
   "cell_type": "code",
   "execution_count": 3,
   "id": "05fd6f36",
   "metadata": {},
   "outputs": [],
   "source": [
    "zip_path='test1.zip'\n",
    "save_path = 'DogsCats'\n",
    "file=zipfile.ZipFile(zip_path)\n",
    "file.extractall(save_path)\n",
    "file.close()"
   ]
  },
  {
   "cell_type": "code",
   "execution_count": 4,
   "id": "d1cafae7",
   "metadata": {},
   "outputs": [],
   "source": [
    "filenames = os.listdir(\"DogsCats/train\")\n",
    "categories = []\n",
    "for image in filenames :\n",
    "    category = image.split('.')[0]\n",
    "    if category == 'dog' :\n",
    "        categories.append(1)\n",
    "    else :    \n",
    "        categories.append(0)\n",
    "\n",
    "img_height, img_width = 128, 128\n",
    "batch_size = 32"
   ]
  },
  {
   "cell_type": "code",
   "execution_count": 5,
   "id": "9d4442fe",
   "metadata": {},
   "outputs": [],
   "source": [
    "df = pd.DataFrame({'filename' : filenames, 'category' : categories})\n",
    "df['category'] = df['category'].map({0 : 'cat', 1 : 'dog'})"
   ]
  },
  {
   "cell_type": "code",
   "execution_count": 6,
   "id": "f5ea5499",
   "metadata": {},
   "outputs": [],
   "source": [
    "train_df, valid_df = train_test_split(df, test_size=0.2, random_state=42)\n",
    "train_df = train_df.reset_index(drop=True)\n",
    "valid_df = valid_df.reset_index(drop=True)"
   ]
  },
  {
   "cell_type": "code",
   "execution_count": 7,
   "id": "51a554d5",
   "metadata": {},
   "outputs": [],
   "source": [
    "total_train = train_df.shape[0]\n",
    "total_valid = valid_df.shape[0]"
   ]
  },
  {
   "cell_type": "code",
   "execution_count": 8,
   "id": "3ab166de",
   "metadata": {},
   "outputs": [
    {
     "name": "stdout",
     "output_type": "stream",
     "text": [
      "Found 20000 validated image filenames belonging to 2 classes.\n"
     ]
    }
   ],
   "source": [
    "train_data = kp.image.ImageDataGenerator(rotation_range=20,\n",
    "                                                         rescale = 1./255,\n",
    "                                                         horizontal_flip=True)\n",
    "train_generator = train_data.flow_from_dataframe(train_df,\n",
    "                                                'DogsCats/train/',\n",
    "                                                x_col = 'filename',\n",
    "                                                y_col = 'category',\n",
    "                                                target_size=[128,128],\n",
    "                                                class_mode='categorical',\n",
    "                                                batch_size=batch_size)"
   ]
  },
  {
   "cell_type": "code",
   "execution_count": 9,
   "id": "c3bb2299",
   "metadata": {},
   "outputs": [
    {
     "name": "stdout",
     "output_type": "stream",
     "text": [
      "Found 5000 validated image filenames belonging to 2 classes.\n"
     ]
    }
   ],
   "source": [
    "valid_data = keras.preprocessing.image.ImageDataGenerator(rescale = 1./255)\n",
    "                                                         \n",
    "                                                         \n",
    "valid_generator = valid_data.flow_from_dataframe(valid_df,\n",
    "                                                'DogsCats/train/',\n",
    "                                                x_col = 'filename',\n",
    "                                                y_col = 'category',\n",
    "                                                target_size=[128,128],\n",
    "                                                class_mode='categorical',\n",
    "                                                batch_size=batch_size)"
   ]
  },
  {
   "cell_type": "markdown",
   "id": "df43c832",
   "metadata": {},
   "source": [
    "## Model 4"
   ]
  },
  {
   "cell_type": "code",
   "execution_count": 10,
   "id": "27f9e063",
   "metadata": {},
   "outputs": [
    {
     "name": "stdout",
     "output_type": "stream",
     "text": [
      "Model: \"sequential\"\n",
      "_________________________________________________________________\n",
      " Layer (type)                Output Shape              Param #   \n",
      "=================================================================\n",
      " conv2d (Conv2D)             (None, 126, 126, 64)      1792      \n",
      "                                                                 \n",
      " max_pooling2d (MaxPooling2D  (None, 63, 63, 64)       0         \n",
      " )                                                               \n",
      "                                                                 \n",
      " dropout (Dropout)           (None, 63, 63, 64)        0         \n",
      "                                                                 \n",
      " conv2d_1 (Conv2D)           (None, 61, 61, 128)       73856     \n",
      "                                                                 \n",
      " max_pooling2d_1 (MaxPooling  (None, 30, 30, 128)      0         \n",
      " 2D)                                                             \n",
      "                                                                 \n",
      " dropout_1 (Dropout)         (None, 30, 30, 128)       0         \n",
      "                                                                 \n",
      " flatten (Flatten)           (None, 115200)            0         \n",
      "                                                                 \n",
      " dense (Dense)               (None, 512)               58982912  \n",
      "                                                                 \n",
      " dense_1 (Dense)             (None, 2)                 1026      \n",
      "                                                                 \n",
      "=================================================================\n",
      "Total params: 59,059,586\n",
      "Trainable params: 59,059,586\n",
      "Non-trainable params: 0\n",
      "_________________________________________________________________\n"
     ]
    }
   ],
   "source": [
    "model4 = keras.Sequential()\n",
    "model4.add(layers.Conv2D(64, kernel_size=(3, 3), activation='relu', input_shape=(img_height, img_width, 3)))\n",
    "model4.add(layers.MaxPooling2D(pool_size=(2, 2)))\n",
    "model4.add(layers.Dropout(0.25))\n",
    "model4.add(layers.Conv2D(128, kernel_size=(3, 3), activation='relu'))\n",
    "model4.add(layers.MaxPooling2D(pool_size=(2, 2)))\n",
    "model4.add(layers.Dropout(0.25))\n",
    "model4.add(layers.Flatten())\n",
    "model4.add(layers.Dense(512, activation='relu'))\n",
    "model4.add(layers.Dense(2, activation = 'softmax'))\n",
    " \n",
    "model4.compile(optimizer='adam',\n",
    "              loss='categorical_crossentropy',\n",
    "              metrics=['accuracy'])\n",
    " \n",
    "model4.summary()"
   ]
  },
  {
   "cell_type": "code",
   "execution_count": 10,
   "id": "8c815b5a",
   "metadata": {},
   "outputs": [],
   "source": [
    "earlystop = keras.callbacks.EarlyStopping(patience=5)\n",
    "learning_rate_reduction = keras.callbacks.ReduceLROnPlateau(monitor='val_accuracy', \n",
    "                                            patience=2, \n",
    "                                            verbose=1, \n",
    "                                            factor=0.5, \n",
    "                                            min_lr=0.00001)\n",
    "callbacks = [earlystop, learning_rate_reduction]"
   ]
  },
  {
   "cell_type": "code",
   "execution_count": 12,
   "id": "5f1e4284",
   "metadata": {
    "scrolled": true
   },
   "outputs": [
    {
     "name": "stderr",
     "output_type": "stream",
     "text": [
      "<ipython-input-12-3298df0a7386>:2: UserWarning: `Model.fit_generator` is deprecated and will be removed in a future version. Please use `Model.fit`, which supports generators.\n",
      "  model4.fit_generator(\n"
     ]
    },
    {
     "name": "stdout",
     "output_type": "stream",
     "text": [
      "Epoch 1/15\n",
      "625/625 [==============================] - 1057s 2s/step - loss: 0.7536 - accuracy: 0.5552 - val_loss: 0.6733 - val_accuracy: 0.5861 - lr: 0.0010\n",
      "Epoch 2/15\n",
      "625/625 [==============================] - 988s 2s/step - loss: 0.6413 - accuracy: 0.6303 - val_loss: 0.6111 - val_accuracy: 0.6707 - lr: 0.0010\n",
      "Epoch 3/15\n",
      "625/625 [==============================] - 985s 2s/step - loss: 0.5999 - accuracy: 0.6811 - val_loss: 0.5559 - val_accuracy: 0.7121 - lr: 0.0010\n",
      "Epoch 4/15\n",
      "625/625 [==============================] - 979s 2s/step - loss: 0.5525 - accuracy: 0.7174 - val_loss: 0.5222 - val_accuracy: 0.7480 - lr: 0.0010\n",
      "Epoch 5/15\n",
      "625/625 [==============================] - 978s 2s/step - loss: 0.5118 - accuracy: 0.7463 - val_loss: 0.4836 - val_accuracy: 0.7702 - lr: 0.0010\n",
      "Epoch 6/15\n",
      "625/625 [==============================] - 978s 2s/step - loss: 0.4788 - accuracy: 0.7685 - val_loss: 0.4507 - val_accuracy: 0.7871 - lr: 0.0010\n",
      "Epoch 7/15\n",
      "625/625 [==============================] - 983s 2s/step - loss: 0.4572 - accuracy: 0.7822 - val_loss: 0.4298 - val_accuracy: 0.8025 - lr: 0.0010\n",
      "Epoch 8/15\n",
      "625/625 [==============================] - 976s 2s/step - loss: 0.4378 - accuracy: 0.7950 - val_loss: 0.4464 - val_accuracy: 0.7865 - lr: 0.0010\n",
      "Epoch 9/15\n",
      "625/625 [==============================] - ETA: 0s - loss: 0.4281 - accuracy: 0.8022\n",
      "Epoch 9: ReduceLROnPlateau reducing learning rate to 0.0005000000237487257.\n",
      "625/625 [==============================] - 977s 2s/step - loss: 0.4281 - accuracy: 0.8022 - val_loss: 0.4225 - val_accuracy: 0.8009 - lr: 0.0010\n",
      "Epoch 10/15\n",
      "625/625 [==============================] - 977s 2s/step - loss: 0.3905 - accuracy: 0.8223 - val_loss: 0.4039 - val_accuracy: 0.8069 - lr: 5.0000e-04\n",
      "Epoch 11/15\n",
      "625/625 [==============================] - 980s 2s/step - loss: 0.3764 - accuracy: 0.8327 - val_loss: 0.4058 - val_accuracy: 0.8057 - lr: 5.0000e-04\n",
      "Epoch 12/15\n",
      "625/625 [==============================] - 978s 2s/step - loss: 0.3595 - accuracy: 0.8418 - val_loss: 0.4119 - val_accuracy: 0.8093 - lr: 5.0000e-04\n",
      "Epoch 13/15\n",
      "625/625 [==============================] - 974s 2s/step - loss: 0.3499 - accuracy: 0.8453 - val_loss: 0.3828 - val_accuracy: 0.8237 - lr: 5.0000e-04\n",
      "Epoch 14/15\n",
      "625/625 [==============================] - 982s 2s/step - loss: 0.3428 - accuracy: 0.8494 - val_loss: 0.3871 - val_accuracy: 0.8275 - lr: 5.0000e-04\n",
      "Epoch 15/15\n",
      "625/625 [==============================] - 972s 2s/step - loss: 0.3311 - accuracy: 0.8544 - val_loss: 0.4204 - val_accuracy: 0.8111 - lr: 5.0000e-04\n"
     ]
    },
    {
     "data": {
      "text/plain": [
       "<keras.callbacks.History at 0x256c0e7f910>"
      ]
     },
     "execution_count": 12,
     "metadata": {},
     "output_type": "execute_result"
    }
   ],
   "source": [
    "epochs = 15\n",
    "model4.fit_generator(\n",
    "    train_generator, \n",
    "    epochs=epochs,\n",
    "    validation_data=valid_generator,\n",
    "    validation_steps=total_valid//batch_size,\n",
    "    steps_per_epoch=total_train//batch_size,\n",
    "    callbacks=callbacks)"
   ]
  },
  {
   "cell_type": "markdown",
   "id": "84ca7d1c",
   "metadata": {},
   "source": [
    "loss: 0.3311 - accuracy: 0.8544 - val_loss: 0.4204 - val_accuracy: 0.8111"
   ]
  },
  {
   "cell_type": "markdown",
   "id": "c4b37b9c",
   "metadata": {},
   "source": [
    "## Model 5"
   ]
  },
  {
   "cell_type": "code",
   "execution_count": 13,
   "id": "3aa6a5ba",
   "metadata": {},
   "outputs": [
    {
     "name": "stdout",
     "output_type": "stream",
     "text": [
      "Model: \"sequential_1\"\n",
      "_________________________________________________________________\n",
      " Layer (type)                Output Shape              Param #   \n",
      "=================================================================\n",
      " conv2d_2 (Conv2D)           (None, 126, 126, 32)      896       \n",
      "                                                                 \n",
      " max_pooling2d_2 (MaxPooling  (None, 63, 63, 32)       0         \n",
      " 2D)                                                             \n",
      "                                                                 \n",
      " dropout_2 (Dropout)         (None, 63, 63, 32)        0         \n",
      "                                                                 \n",
      " conv2d_3 (Conv2D)           (None, 61, 61, 64)        18496     \n",
      "                                                                 \n",
      " max_pooling2d_3 (MaxPooling  (None, 30, 30, 64)       0         \n",
      " 2D)                                                             \n",
      "                                                                 \n",
      " dropout_3 (Dropout)         (None, 30, 30, 64)        0         \n",
      "                                                                 \n",
      " flatten_1 (Flatten)         (None, 57600)             0         \n",
      "                                                                 \n",
      " dense_2 (Dense)             (None, 2)                 115202    \n",
      "                                                                 \n",
      "=================================================================\n",
      "Total params: 134,594\n",
      "Trainable params: 134,594\n",
      "Non-trainable params: 0\n",
      "_________________________________________________________________\n"
     ]
    }
   ],
   "source": [
    "model5 = keras.Sequential()\n",
    "model5.add(layers.Conv2D(32, kernel_size=(3, 3), activation='relu', input_shape=(img_height, img_width, 3)))\n",
    "model5.add(layers.MaxPooling2D(pool_size=(2, 2)))\n",
    "model5.add(layers.Dropout(0.25))\n",
    "model5.add(layers.Conv2D(64, kernel_size=(3, 3), activation='relu'))\n",
    "model5.add(layers.MaxPooling2D(pool_size=(2, 2)))\n",
    "model5.add(layers.Dropout(0.25))\n",
    "model5.add(layers.Flatten())\n",
    "model5.add(layers.Dense(2, activation = 'softmax'))\n",
    " \n",
    "model5.compile(optimizer='adam',\n",
    "              loss='categorical_crossentropy',\n",
    "              metrics=['accuracy'])\n",
    " \n",
    "model5.summary()"
   ]
  },
  {
   "cell_type": "code",
   "execution_count": 14,
   "id": "ed23ff19",
   "metadata": {
    "scrolled": false
   },
   "outputs": [
    {
     "name": "stderr",
     "output_type": "stream",
     "text": [
      "<ipython-input-14-82596d7ab951>:2: UserWarning: `Model.fit_generator` is deprecated and will be removed in a future version. Please use `Model.fit`, which supports generators.\n",
      "  model5.fit_generator(\n"
     ]
    },
    {
     "name": "stdout",
     "output_type": "stream",
     "text": [
      "Epoch 1/30\n",
      "625/625 [==============================] - 379s 605ms/step - loss: 0.6729 - accuracy: 0.5867 - val_loss: 0.6304 - val_accuracy: 0.6456 - lr: 0.0010\n",
      "Epoch 2/30\n",
      "625/625 [==============================] - 382s 610ms/step - loss: 0.5647 - accuracy: 0.7110 - val_loss: 0.5385 - val_accuracy: 0.7348 - lr: 0.0010\n",
      "Epoch 3/30\n",
      "625/625 [==============================] - 379s 606ms/step - loss: 0.5158 - accuracy: 0.7474 - val_loss: 0.4737 - val_accuracy: 0.7728 - lr: 0.0010\n",
      "Epoch 4/30\n",
      "625/625 [==============================] - 378s 604ms/step - loss: 0.4876 - accuracy: 0.7653 - val_loss: 0.4628 - val_accuracy: 0.7899 - lr: 0.0010\n",
      "Epoch 5/30\n",
      "625/625 [==============================] - 380s 608ms/step - loss: 0.4793 - accuracy: 0.7736 - val_loss: 0.4531 - val_accuracy: 0.7909 - lr: 0.0010\n",
      "Epoch 6/30\n",
      "625/625 [==============================] - 378s 605ms/step - loss: 0.4590 - accuracy: 0.7880 - val_loss: 0.4368 - val_accuracy: 0.7921 - lr: 0.0010\n",
      "Epoch 7/30\n",
      "625/625 [==============================] - 380s 608ms/step - loss: 0.4462 - accuracy: 0.7930 - val_loss: 0.4184 - val_accuracy: 0.8073 - lr: 0.0010\n",
      "Epoch 8/30\n",
      "625/625 [==============================] - 378s 605ms/step - loss: 0.4384 - accuracy: 0.7997 - val_loss: 0.4221 - val_accuracy: 0.8063 - lr: 0.0010\n",
      "Epoch 9/30\n",
      "625/625 [==============================] - 378s 604ms/step - loss: 0.4334 - accuracy: 0.8029 - val_loss: 0.4132 - val_accuracy: 0.8131 - lr: 0.0010\n",
      "Epoch 10/30\n",
      "625/625 [==============================] - 379s 606ms/step - loss: 0.4238 - accuracy: 0.8082 - val_loss: 0.4305 - val_accuracy: 0.7921 - lr: 0.0010\n",
      "Epoch 11/30\n",
      "625/625 [==============================] - ETA: 0s - loss: 0.4186 - accuracy: 0.8094\n",
      "Epoch 11: ReduceLROnPlateau reducing learning rate to 0.0005000000237487257.\n",
      "625/625 [==============================] - 379s 606ms/step - loss: 0.4186 - accuracy: 0.8094 - val_loss: 0.4130 - val_accuracy: 0.8109 - lr: 0.0010\n",
      "Epoch 12/30\n",
      "625/625 [==============================] - 417s 667ms/step - loss: 0.3905 - accuracy: 0.8250 - val_loss: 0.3787 - val_accuracy: 0.8303 - lr: 5.0000e-04\n",
      "Epoch 13/30\n",
      "625/625 [==============================] - 381s 609ms/step - loss: 0.3871 - accuracy: 0.8266 - val_loss: 0.3844 - val_accuracy: 0.8271 - lr: 5.0000e-04\n",
      "Epoch 14/30\n",
      "625/625 [==============================] - ETA: 0s - loss: 0.3798 - accuracy: 0.8291\n",
      "Epoch 14: ReduceLROnPlateau reducing learning rate to 0.0002500000118743628.\n",
      "625/625 [==============================] - 379s 606ms/step - loss: 0.3798 - accuracy: 0.8291 - val_loss: 0.3883 - val_accuracy: 0.8187 - lr: 5.0000e-04\n",
      "Epoch 15/30\n",
      "625/625 [==============================] - 378s 605ms/step - loss: 0.3584 - accuracy: 0.8425 - val_loss: 0.3716 - val_accuracy: 0.8335 - lr: 2.5000e-04\n",
      "Epoch 16/30\n",
      "625/625 [==============================] - 383s 613ms/step - loss: 0.3649 - accuracy: 0.8376 - val_loss: 0.3704 - val_accuracy: 0.8277 - lr: 2.5000e-04\n",
      "Epoch 17/30\n",
      "625/625 [==============================] - ETA: 0s - loss: 0.3571 - accuracy: 0.8467\n",
      "Epoch 17: ReduceLROnPlateau reducing learning rate to 0.0001250000059371814.\n",
      "625/625 [==============================] - 379s 606ms/step - loss: 0.3571 - accuracy: 0.8467 - val_loss: 0.3684 - val_accuracy: 0.8317 - lr: 2.5000e-04\n",
      "Epoch 18/30\n",
      "625/625 [==============================] - 379s 607ms/step - loss: 0.3482 - accuracy: 0.8438 - val_loss: 0.3611 - val_accuracy: 0.8395 - lr: 1.2500e-04\n",
      "Epoch 19/30\n",
      "625/625 [==============================] - 381s 609ms/step - loss: 0.3448 - accuracy: 0.8475 - val_loss: 0.3566 - val_accuracy: 0.8387 - lr: 1.2500e-04\n",
      "Epoch 20/30\n",
      "625/625 [==============================] - ETA: 0s - loss: 0.3450 - accuracy: 0.8493\n",
      "Epoch 20: ReduceLROnPlateau reducing learning rate to 6.25000029685907e-05.\n",
      "625/625 [==============================] - 380s 607ms/step - loss: 0.3450 - accuracy: 0.8493 - val_loss: 0.3572 - val_accuracy: 0.8379 - lr: 1.2500e-04\n",
      "Epoch 21/30\n",
      "625/625 [==============================] - 383s 612ms/step - loss: 0.3382 - accuracy: 0.8517 - val_loss: 0.3560 - val_accuracy: 0.8395 - lr: 6.2500e-05\n",
      "Epoch 22/30\n",
      "625/625 [==============================] - ETA: 0s - loss: 0.3344 - accuracy: 0.8557\n",
      "Epoch 22: ReduceLROnPlateau reducing learning rate to 3.125000148429535e-05.\n",
      "625/625 [==============================] - 380s 609ms/step - loss: 0.3344 - accuracy: 0.8557 - val_loss: 0.3576 - val_accuracy: 0.8381 - lr: 6.2500e-05\n",
      "Epoch 23/30\n",
      "625/625 [==============================] - 379s 606ms/step - loss: 0.3372 - accuracy: 0.8536 - val_loss: 0.3536 - val_accuracy: 0.8413 - lr: 3.1250e-05\n",
      "Epoch 24/30\n",
      "625/625 [==============================] - 380s 608ms/step - loss: 0.3349 - accuracy: 0.8543 - val_loss: 0.3539 - val_accuracy: 0.8399 - lr: 3.1250e-05\n",
      "Epoch 25/30\n",
      "625/625 [==============================] - ETA: 0s - loss: 0.3373 - accuracy: 0.8515\n",
      "Epoch 25: ReduceLROnPlateau reducing learning rate to 1.5625000742147677e-05.\n",
      "625/625 [==============================] - 380s 607ms/step - loss: 0.3373 - accuracy: 0.8515 - val_loss: 0.3555 - val_accuracy: 0.8391 - lr: 3.1250e-05\n",
      "Epoch 26/30\n",
      "625/625 [==============================] - 390s 624ms/step - loss: 0.3368 - accuracy: 0.8543 - val_loss: 0.3538 - val_accuracy: 0.8389 - lr: 1.5625e-05\n",
      "Epoch 27/30\n",
      "625/625 [==============================] - ETA: 0s - loss: 0.3338 - accuracy: 0.8546\n",
      "Epoch 27: ReduceLROnPlateau reducing learning rate to 1e-05.\n",
      "625/625 [==============================] - 398s 637ms/step - loss: 0.3338 - accuracy: 0.8546 - val_loss: 0.3527 - val_accuracy: 0.8399 - lr: 1.5625e-05\n",
      "Epoch 28/30\n",
      "625/625 [==============================] - 382s 611ms/step - loss: 0.3351 - accuracy: 0.8541 - val_loss: 0.3530 - val_accuracy: 0.8403 - lr: 1.0000e-05\n",
      "Epoch 29/30\n",
      "625/625 [==============================] - 366s 585ms/step - loss: 0.3331 - accuracy: 0.8547 - val_loss: 0.3535 - val_accuracy: 0.8389 - lr: 1.0000e-05\n",
      "Epoch 30/30\n",
      "625/625 [==============================] - 372s 595ms/step - loss: 0.3337 - accuracy: 0.8554 - val_loss: 0.3510 - val_accuracy: 0.8415 - lr: 1.0000e-05\n"
     ]
    },
    {
     "data": {
      "text/plain": [
       "<keras.callbacks.History at 0x256c10d7f40>"
      ]
     },
     "execution_count": 14,
     "metadata": {},
     "output_type": "execute_result"
    }
   ],
   "source": [
    "epochs = 30\n",
    "model5.fit_generator(\n",
    "    train_generator, \n",
    "    epochs=epochs,\n",
    "    validation_data=valid_generator,\n",
    "    validation_steps=total_valid//batch_size,\n",
    "    steps_per_epoch=total_train//batch_size,\n",
    "    callbacks=callbacks)"
   ]
  },
  {
   "cell_type": "markdown",
   "id": "be05aff6",
   "metadata": {},
   "source": [
    "loss: 0.3337 - accuracy: 0.8554 - val_loss: 0.3510 - val_accuracy: 0.8415"
   ]
  },
  {
   "cell_type": "markdown",
   "id": "65cc7e2f",
   "metadata": {},
   "source": [
    "## Model 6"
   ]
  },
  {
   "cell_type": "code",
   "execution_count": 11,
   "id": "9a27acdf",
   "metadata": {},
   "outputs": [
    {
     "name": "stdout",
     "output_type": "stream",
     "text": [
      "Model: \"sequential\"\n",
      "_________________________________________________________________\n",
      " Layer (type)                Output Shape              Param #   \n",
      "=================================================================\n",
      " conv2d (Conv2D)             (None, 126, 126, 32)      896       \n",
      "                                                                 \n",
      " conv2d_1 (Conv2D)           (None, 124, 124, 32)      9248      \n",
      "                                                                 \n",
      " max_pooling2d (MaxPooling2D  (None, 62, 62, 32)       0         \n",
      " )                                                               \n",
      "                                                                 \n",
      " dropout (Dropout)           (None, 62, 62, 32)        0         \n",
      "                                                                 \n",
      " conv2d_2 (Conv2D)           (None, 60, 60, 64)        18496     \n",
      "                                                                 \n",
      " conv2d_3 (Conv2D)           (None, 58, 58, 64)        36928     \n",
      "                                                                 \n",
      " max_pooling2d_1 (MaxPooling  (None, 29, 29, 64)       0         \n",
      " 2D)                                                             \n",
      "                                                                 \n",
      " dropout_1 (Dropout)         (None, 29, 29, 64)        0         \n",
      "                                                                 \n",
      " flatten (Flatten)           (None, 53824)             0         \n",
      "                                                                 \n",
      " dense (Dense)               (None, 128)               6889600   \n",
      "                                                                 \n",
      " dense_1 (Dense)             (None, 2)                 258       \n",
      "                                                                 \n",
      "=================================================================\n",
      "Total params: 6,955,426\n",
      "Trainable params: 6,955,426\n",
      "Non-trainable params: 0\n",
      "_________________________________________________________________\n"
     ]
    }
   ],
   "source": [
    "model6 = keras.Sequential()\n",
    "model6.add(layers.Conv2D(32, kernel_size=(3, 3), activation='relu', input_shape=(img_height, img_width, 3)))\n",
    "model6.add(layers.Conv2D(32, kernel_size=(3, 3), activation='relu', input_shape=(img_height, img_width, 3)))\n",
    "model6.add(layers.MaxPooling2D(pool_size=(2, 2)))\n",
    "model6.add(layers.Dropout(0.25))\n",
    "model6.add(layers.Conv2D(64, kernel_size=(3, 3), activation='relu'))\n",
    "model6.add(layers.Conv2D(64, kernel_size=(3, 3), activation='relu'))\n",
    "model6.add(layers.MaxPooling2D(pool_size=(2, 2)))\n",
    "model6.add(layers.Dropout(0.25))\n",
    "model6.add(layers.Flatten())\n",
    "model6.add(layers.Dense(128, activation = 'softmax'))\n",
    "model6.add(layers.Dense(2, activation = 'softmax'))\n",
    " \n",
    "model6.compile(optimizer='adam',\n",
    "              loss='categorical_crossentropy',\n",
    "              metrics=['accuracy'])\n",
    " \n",
    "model6.summary()"
   ]
  },
  {
   "cell_type": "code",
   "execution_count": 12,
   "id": "0c0e9376",
   "metadata": {},
   "outputs": [
    {
     "name": "stderr",
     "output_type": "stream",
     "text": [
      "<ipython-input-12-003318f83f9e>:2: UserWarning: `Model.fit_generator` is deprecated and will be removed in a future version. Please use `Model.fit`, which supports generators.\n",
      "  model6.fit_generator(\n"
     ]
    },
    {
     "name": "stdout",
     "output_type": "stream",
     "text": [
      "Epoch 1/30\n",
      "625/625 [==============================] - 1065s 2s/step - loss: 0.6934 - accuracy: 0.4999 - val_loss: 0.6931 - val_accuracy: 0.5034 - lr: 0.0010\n",
      "Epoch 2/30\n",
      "625/625 [==============================] - 952s 2s/step - loss: 0.6932 - accuracy: 0.5041 - val_loss: 0.6932 - val_accuracy: 0.4972 - lr: 0.0010\n",
      "Epoch 3/30\n",
      "625/625 [==============================] - ETA: 0s - loss: 0.6933 - accuracy: 0.4956\n",
      "Epoch 3: ReduceLROnPlateau reducing learning rate to 0.0005000000237487257.\n",
      "625/625 [==============================] - 942s 2s/step - loss: 0.6933 - accuracy: 0.4956 - val_loss: 0.6932 - val_accuracy: 0.4976 - lr: 0.0010\n",
      "Epoch 4/30\n",
      "625/625 [==============================] - 973s 2s/step - loss: 0.6932 - accuracy: 0.4985 - val_loss: 0.6932 - val_accuracy: 0.4964 - lr: 5.0000e-04\n",
      "Epoch 5/30\n",
      "625/625 [==============================] - ETA: 0s - loss: 0.6932 - accuracy: 0.4958\n",
      "Epoch 5: ReduceLROnPlateau reducing learning rate to 0.0002500000118743628.\n",
      "625/625 [==============================] - 988s 2s/step - loss: 0.6932 - accuracy: 0.4958 - val_loss: 0.6932 - val_accuracy: 0.4972 - lr: 5.0000e-04\n",
      "Epoch 6/30\n",
      "625/625 [==============================] - 938s 1s/step - loss: 0.6932 - accuracy: 0.4970 - val_loss: 0.6931 - val_accuracy: 0.5030 - lr: 2.5000e-04\n"
     ]
    },
    {
     "data": {
      "text/plain": [
       "<keras.callbacks.History at 0x1e956d25eb0>"
      ]
     },
     "execution_count": 12,
     "metadata": {},
     "output_type": "execute_result"
    }
   ],
   "source": [
    "epochs = 30\n",
    "model6.fit_generator(\n",
    "    train_generator, \n",
    "    epochs=epochs,\n",
    "    validation_data=valid_generator,\n",
    "    validation_steps=total_valid//batch_size,\n",
    "    steps_per_epoch=total_train//batch_size,\n",
    "    callbacks=callbacks)"
   ]
  },
  {
   "cell_type": "markdown",
   "id": "c2136ff1",
   "metadata": {},
   "source": [
    "loss: 0.6932 - accuracy: 0.4970 - val_loss: 0.6931 - val_accuracy: 0.5030 - lr: 2.5000e-04"
   ]
  },
  {
   "cell_type": "markdown",
   "id": "37a4e2dc",
   "metadata": {},
   "source": [
    "## Model 7"
   ]
  },
  {
   "cell_type": "code",
   "execution_count": 13,
   "id": "cd0b4185",
   "metadata": {},
   "outputs": [
    {
     "name": "stdout",
     "output_type": "stream",
     "text": [
      "Model: \"sequential_1\"\n",
      "_________________________________________________________________\n",
      " Layer (type)                Output Shape              Param #   \n",
      "=================================================================\n",
      " conv2d_4 (Conv2D)           (None, 126, 126, 64)      1792      \n",
      "                                                                 \n",
      " average_pooling2d (AverageP  (None, 63, 63, 64)       0         \n",
      " ooling2D)                                                       \n",
      "                                                                 \n",
      " batch_normalization (BatchN  (None, 63, 63, 64)       256       \n",
      " ormalization)                                                   \n",
      "                                                                 \n",
      " conv2d_5 (Conv2D)           (None, 61, 61, 64)        36928     \n",
      "                                                                 \n",
      " average_pooling2d_1 (Averag  (None, 30, 30, 64)       0         \n",
      " ePooling2D)                                                     \n",
      "                                                                 \n",
      " batch_normalization_1 (Batc  (None, 30, 30, 64)       256       \n",
      " hNormalization)                                                 \n",
      "                                                                 \n",
      " flatten_1 (Flatten)         (None, 57600)             0         \n",
      "                                                                 \n",
      " dense_2 (Dense)             (None, 2)                 115202    \n",
      "                                                                 \n",
      "=================================================================\n",
      "Total params: 154,434\n",
      "Trainable params: 154,178\n",
      "Non-trainable params: 256\n",
      "_________________________________________________________________\n"
     ]
    }
   ],
   "source": [
    "model7 = keras.Sequential()\n",
    "model7.add(layers.Conv2D(64, kernel_size=(3, 3), activation='relu', input_shape=(img_height, img_width, 3)))\n",
    "model7.add(layers.AveragePooling2D(pool_size=(2, 2)))\n",
    "model7.add(layers.BatchNormalization())\n",
    "model7.add(layers.Conv2D(64, kernel_size=(3, 3), activation='relu'))\n",
    "model7.add(layers.AveragePooling2D(pool_size=(2, 2)))\n",
    "model7.add(layers.BatchNormalization())\n",
    "model7.add(layers.Flatten())\n",
    "model7.add(layers.Dense(2, activation = 'softmax'))\n",
    " \n",
    "model7.compile(optimizer='adam',\n",
    "              loss='categorical_crossentropy',\n",
    "              metrics=['accuracy'])\n",
    " \n",
    "model7.summary()"
   ]
  },
  {
   "cell_type": "code",
   "execution_count": 14,
   "id": "ee83de23",
   "metadata": {},
   "outputs": [
    {
     "name": "stderr",
     "output_type": "stream",
     "text": [
      "<ipython-input-14-bb1c34f6d3dc>:2: UserWarning: `Model.fit_generator` is deprecated and will be removed in a future version. Please use `Model.fit`, which supports generators.\n",
      "  model7.fit_generator(\n"
     ]
    },
    {
     "name": "stdout",
     "output_type": "stream",
     "text": [
      "Epoch 1/30\n",
      "625/625 [==============================] - 569s 908ms/step - loss: 3.5706 - accuracy: 0.5907 - val_loss: 2.2989 - val_accuracy: 0.5747 - lr: 0.0010\n",
      "Epoch 2/30\n",
      "625/625 [==============================] - 542s 867ms/step - loss: 1.3133 - accuracy: 0.6445 - val_loss: 0.9691 - val_accuracy: 0.6753 - lr: 0.0010\n",
      "Epoch 3/30\n",
      "625/625 [==============================] - 532s 851ms/step - loss: 0.7749 - accuracy: 0.6887 - val_loss: 0.6604 - val_accuracy: 0.6941 - lr: 0.0010\n",
      "Epoch 4/30\n",
      "625/625 [==============================] - 554s 886ms/step - loss: 0.6004 - accuracy: 0.7185 - val_loss: 0.6260 - val_accuracy: 0.7079 - lr: 0.0010\n",
      "Epoch 5/30\n",
      "625/625 [==============================] - 537s 858ms/step - loss: 0.5385 - accuracy: 0.7400 - val_loss: 0.5631 - val_accuracy: 0.7212 - lr: 0.0010\n",
      "Epoch 6/30\n",
      "625/625 [==============================] - 523s 837ms/step - loss: 0.5024 - accuracy: 0.7595 - val_loss: 0.5342 - val_accuracy: 0.7422 - lr: 0.0010\n",
      "Epoch 7/30\n",
      "625/625 [==============================] - 518s 829ms/step - loss: 0.4754 - accuracy: 0.7752 - val_loss: 1.1256 - val_accuracy: 0.6522 - lr: 0.0010\n",
      "Epoch 8/30\n",
      "625/625 [==============================] - 516s 825ms/step - loss: 0.4766 - accuracy: 0.7764 - val_loss: 0.4762 - val_accuracy: 0.7728 - lr: 0.0010\n",
      "Epoch 9/30\n",
      "625/625 [==============================] - 518s 828ms/step - loss: 0.4539 - accuracy: 0.7902 - val_loss: 1.6687 - val_accuracy: 0.5753 - lr: 0.0010\n",
      "Epoch 10/30\n",
      "625/625 [==============================] - ETA: 0s - loss: 0.4438 - accuracy: 0.7936\n",
      "Epoch 10: ReduceLROnPlateau reducing learning rate to 0.0005000000237487257.\n",
      "625/625 [==============================] - 552s 883ms/step - loss: 0.4438 - accuracy: 0.7936 - val_loss: 0.5023 - val_accuracy: 0.7606 - lr: 0.0010\n",
      "Epoch 11/30\n",
      "625/625 [==============================] - 539s 861ms/step - loss: 0.4169 - accuracy: 0.8091 - val_loss: 0.4210 - val_accuracy: 0.8035 - lr: 5.0000e-04\n",
      "Epoch 12/30\n",
      "625/625 [==============================] - 532s 850ms/step - loss: 0.4148 - accuracy: 0.8119 - val_loss: 0.4661 - val_accuracy: 0.7843 - lr: 5.0000e-04\n",
      "Epoch 13/30\n",
      "625/625 [==============================] - 538s 860ms/step - loss: 0.4042 - accuracy: 0.8187 - val_loss: 0.4199 - val_accuracy: 0.8095 - lr: 5.0000e-04\n",
      "Epoch 14/30\n",
      "625/625 [==============================] - 532s 850ms/step - loss: 0.4049 - accuracy: 0.8151 - val_loss: 0.4294 - val_accuracy: 0.8001 - lr: 5.0000e-04\n",
      "Epoch 15/30\n",
      "625/625 [==============================] - ETA: 0s - loss: 0.3950 - accuracy: 0.8203\n",
      "Epoch 15: ReduceLROnPlateau reducing learning rate to 0.0002500000118743628.\n",
      "625/625 [==============================] - 531s 850ms/step - loss: 0.3950 - accuracy: 0.8203 - val_loss: 0.4552 - val_accuracy: 0.7965 - lr: 5.0000e-04\n",
      "Epoch 16/30\n",
      "625/625 [==============================] - 532s 852ms/step - loss: 0.3800 - accuracy: 0.8310 - val_loss: 0.4417 - val_accuracy: 0.7989 - lr: 2.5000e-04\n",
      "Epoch 17/30\n",
      "625/625 [==============================] - 563s 901ms/step - loss: 0.3733 - accuracy: 0.8334 - val_loss: 0.3909 - val_accuracy: 0.8251 - lr: 2.5000e-04\n",
      "Epoch 18/30\n",
      "625/625 [==============================] - 565s 902ms/step - loss: 0.3657 - accuracy: 0.8386 - val_loss: 0.3896 - val_accuracy: 0.8221 - lr: 2.5000e-04\n",
      "Epoch 19/30\n",
      "625/625 [==============================] - ETA: 0s - loss: 0.3637 - accuracy: 0.8389\n",
      "Epoch 19: ReduceLROnPlateau reducing learning rate to 0.0001250000059371814.\n",
      "625/625 [==============================] - 543s 869ms/step - loss: 0.3637 - accuracy: 0.8389 - val_loss: 0.3929 - val_accuracy: 0.8213 - lr: 2.5000e-04\n",
      "Epoch 20/30\n",
      "625/625 [==============================] - 540s 863ms/step - loss: 0.3528 - accuracy: 0.8429 - val_loss: 0.3819 - val_accuracy: 0.8339 - lr: 1.2500e-04\n",
      "Epoch 21/30\n",
      "625/625 [==============================] - 535s 856ms/step - loss: 0.3501 - accuracy: 0.8433 - val_loss: 0.3744 - val_accuracy: 0.8299 - lr: 1.2500e-04\n",
      "Epoch 22/30\n",
      "625/625 [==============================] - ETA: 0s - loss: 0.3489 - accuracy: 0.8451\n",
      "Epoch 22: ReduceLROnPlateau reducing learning rate to 6.25000029685907e-05.\n",
      "625/625 [==============================] - 536s 857ms/step - loss: 0.3489 - accuracy: 0.8451 - val_loss: 0.3767 - val_accuracy: 0.8323 - lr: 1.2500e-04\n",
      "Epoch 23/30\n",
      "625/625 [==============================] - 536s 858ms/step - loss: 0.3464 - accuracy: 0.8464 - val_loss: 0.3593 - val_accuracy: 0.8399 - lr: 6.2500e-05\n",
      "Epoch 24/30\n",
      "625/625 [==============================] - 535s 856ms/step - loss: 0.3437 - accuracy: 0.8475 - val_loss: 0.3603 - val_accuracy: 0.8435 - lr: 6.2500e-05\n",
      "Epoch 25/30\n",
      "625/625 [==============================] - 534s 854ms/step - loss: 0.3396 - accuracy: 0.8497 - val_loss: 0.3608 - val_accuracy: 0.8391 - lr: 6.2500e-05\n",
      "Epoch 26/30\n",
      "625/625 [==============================] - ETA: 0s - loss: 0.3369 - accuracy: 0.8509\n",
      "Epoch 26: ReduceLROnPlateau reducing learning rate to 3.125000148429535e-05.\n",
      "625/625 [==============================] - 554s 886ms/step - loss: 0.3369 - accuracy: 0.8509 - val_loss: 0.3628 - val_accuracy: 0.8373 - lr: 6.2500e-05\n",
      "Epoch 27/30\n",
      "625/625 [==============================] - 552s 883ms/step - loss: 0.3343 - accuracy: 0.8523 - val_loss: 0.3563 - val_accuracy: 0.8433 - lr: 3.1250e-05\n",
      "Epoch 28/30\n",
      "625/625 [==============================] - 549s 878ms/step - loss: 0.3386 - accuracy: 0.8505 - val_loss: 0.3550 - val_accuracy: 0.8458 - lr: 3.1250e-05\n",
      "Epoch 29/30\n",
      "625/625 [==============================] - 557s 891ms/step - loss: 0.3338 - accuracy: 0.8553 - val_loss: 0.3563 - val_accuracy: 0.8444 - lr: 3.1250e-05\n",
      "Epoch 30/30\n",
      "625/625 [==============================] - ETA: 0s - loss: 0.3349 - accuracy: 0.8555\n",
      "Epoch 30: ReduceLROnPlateau reducing learning rate to 1.5625000742147677e-05.\n",
      "625/625 [==============================] - 552s 883ms/step - loss: 0.3349 - accuracy: 0.8555 - val_loss: 0.3552 - val_accuracy: 0.8456 - lr: 3.1250e-05\n"
     ]
    },
    {
     "data": {
      "text/plain": [
       "<keras.callbacks.History at 0x1e9021d0520>"
      ]
     },
     "execution_count": 14,
     "metadata": {},
     "output_type": "execute_result"
    }
   ],
   "source": [
    "epochs = 30\n",
    "model7.fit_generator(\n",
    "    train_generator, \n",
    "    epochs=epochs,\n",
    "    validation_data=valid_generator,\n",
    "    validation_steps=total_valid//batch_size,\n",
    "    steps_per_epoch=total_train//batch_size,\n",
    "    callbacks=callbacks)"
   ]
  },
  {
   "cell_type": "markdown",
   "id": "82845921",
   "metadata": {},
   "source": [
    "accuracy: 0.8555 - val_loss: 0.3552 - val_accuracy: 0.8456"
   ]
  }
 ],
 "metadata": {
  "kernelspec": {
   "display_name": "Python 3",
   "language": "python",
   "name": "python3"
  },
  "language_info": {
   "codemirror_mode": {
    "name": "ipython",
    "version": 3
   },
   "file_extension": ".py",
   "mimetype": "text/x-python",
   "name": "python",
   "nbconvert_exporter": "python",
   "pygments_lexer": "ipython3",
   "version": "3.8.8"
  }
 },
 "nbformat": 4,
 "nbformat_minor": 5
}

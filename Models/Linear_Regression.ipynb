{
 "cells": [
  {
   "cell_type": "code",
   "execution_count": 1,
   "id": "f2b96d04",
   "metadata": {},
   "outputs": [],
   "source": [
    "import numpy as np\n",
    "import pytest\n",
    "from sklearn.linear_model import LinearRegression"
   ]
  },
  {
   "cell_type": "code",
   "execution_count": 2,
   "id": "8e8dffb9",
   "metadata": {},
   "outputs": [],
   "source": [
    "class LinearRegr:\n",
    "    def fit(self, X, Y):\n",
    "        # wejscie:\n",
    "        #  X = np.array, shape = (n, m)\n",
    "        #  Y = np.array, shape = (n)\n",
    "        # Znajduje theta minimalizujace kwadratowa funkcje kosztu L uzywajac wzoru.\n",
    "        # Uwaga: przed zastosowaniem wzoru do X nalezy dopisac kolumne zlozona z jedynek.\n",
    "        n, m = X.shape\n",
    "        X_extended = np.vstack((np.ones(n),X.T))\n",
    "        self.theta = np.linalg.inv(X_extended@X_extended.T)@X_extended@Y\n",
    "        return self\n",
    "    \n",
    "    def predict(self, X):\n",
    "        # wejscie\n",
    "        #  X = np.array, shape = (k, m)\n",
    "        # zwraca\n",
    "        #  Y = wektor(f(X_1), ..., f(X_k))\n",
    "        k, m = X.shape\n",
    "        self.predicted_values = X@self.theta[1:] + self.theta[0]\n",
    "        return self.predicted_values\n",
    "\n",
    "\n",
    "def test_RegressionInOneDim():\n",
    "    X = np.array([1,3,2,5]).reshape((4,1))\n",
    "    Y = np.array([2,5, 3, 8])\n",
    "    a = np.array([1,2,10]).reshape((3,1))\n",
    "    expected = LinearRegression().fit(X, Y).predict(a)\n",
    "    actual = LinearRegr().fit(X, Y).predict(a)\n",
    "    assert list(actual) == pytest.approx(list(expected))\n",
    "\n",
    "def test_RegressionInThreeDim():\n",
    "    X = np.array([1,2,3,5,4,5,4,3,3,3,2,5]).reshape((4,3))\n",
    "    Y = np.array([2,5, 3, 8])\n",
    "    a = np.array([1,0,0, 0,1,0, 0,0,1, 2,5,7, -2,0,3]).reshape((5,3))\n",
    "    expected = LinearRegression().fit(X, Y).predict(a)\n",
    "    actual = LinearRegr().fit(X, Y).predict(a)\n",
    "    assert list(actual) == pytest.approx(list(expected))"
   ]
  },
  {
   "cell_type": "code",
   "execution_count": 3,
   "id": "0232698f",
   "metadata": {},
   "outputs": [],
   "source": [
    "test_RegressionInOneDim()"
   ]
  },
  {
   "cell_type": "code",
   "execution_count": 4,
   "id": "01c9218c",
   "metadata": {},
   "outputs": [],
   "source": [
    "test_RegressionInThreeDim()"
   ]
  },
  {
   "cell_type": "code",
   "execution_count": 5,
   "id": "76656e79",
   "metadata": {},
   "outputs": [
    {
     "data": {
      "text/plain": [
       "(array([ 1.8       ,  3.34285714, 15.68571429]),\n",
       " array([ 1.8       ,  3.34285714, 15.68571429]))"
      ]
     },
     "execution_count": 5,
     "metadata": {},
     "output_type": "execute_result"
    }
   ],
   "source": [
    "X = np.array([1,3,2,5]).reshape((4,1))\n",
    "Y = np.array([2,5, 3, 8])\n",
    "a = np.array([1,2,10]).reshape((3,1))\n",
    "expected = LinearRegression().fit(X, Y).predict(a)\n",
    "actual = LinearRegr().fit(X, Y).predict(a)\n",
    "expected, actual"
   ]
  }
 ],
 "metadata": {
  "kernelspec": {
   "display_name": "Python 3",
   "language": "python",
   "name": "python3"
  },
  "language_info": {
   "codemirror_mode": {
    "name": "ipython",
    "version": 3
   },
   "file_extension": ".py",
   "mimetype": "text/x-python",
   "name": "python",
   "nbconvert_exporter": "python",
   "pygments_lexer": "ipython3",
   "version": "3.8.8"
  }
 },
 "nbformat": 4,
 "nbformat_minor": 5
}
